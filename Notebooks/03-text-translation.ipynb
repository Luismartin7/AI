{
 "cells": [
  {
   "cell_type": "code",
   "execution_count": 4,
   "id": "7afcc69d",
   "metadata": {},
   "outputs": [],
   "source": [
    "import pandas as pd\n",
    "import numpy as np\n",
    "from time import time\n",
    "\n",
    "import tensorflow.keras as keras\n",
    "from keras import Sequential\n",
    "from keras.layers import *\n",
    "from keras.optimizers import Adam\n",
    "from keras.preprocessing.text import Tokenizer\n",
    "from keras.preprocessing.sequence import pad_sequences\n",
    "from keras.losses import sparse_categorical_crossentropy"
   ]
  },
  {
   "cell_type": "markdown",
   "id": "0d01604b",
   "metadata": {},
   "source": [
    "# Dataset"
   ]
  },
  {
   "cell_type": "code",
   "execution_count": 2,
   "id": "6861d62f",
   "metadata": {},
   "outputs": [
    {
     "data": {
      "text/html": [
       "<div>\n",
       "<style scoped>\n",
       "    .dataframe tbody tr th:only-of-type {\n",
       "        vertical-align: middle;\n",
       "    }\n",
       "\n",
       "    .dataframe tbody tr th {\n",
       "        vertical-align: top;\n",
       "    }\n",
       "\n",
       "    .dataframe thead th {\n",
       "        text-align: right;\n",
       "    }\n",
       "</style>\n",
       "<table border=\"1\" class=\"dataframe\">\n",
       "  <thead>\n",
       "    <tr style=\"text-align: right;\">\n",
       "      <th></th>\n",
       "      <th>en</th>\n",
       "      <th>es</th>\n",
       "    </tr>\n",
       "  </thead>\n",
       "  <tbody>\n",
       "    <tr>\n",
       "      <th>0</th>\n",
       "      <td>I hope you're not alone.</td>\n",
       "      <td>Espero que no estés solo.</td>\n",
       "    </tr>\n",
       "    <tr>\n",
       "      <th>1</th>\n",
       "      <td>When I was taking a bath, the telephone rang.</td>\n",
       "      <td>Mientras me bañaba, sonó el teléfono.</td>\n",
       "    </tr>\n",
       "    <tr>\n",
       "      <th>2</th>\n",
       "      <td>I just need you to come with me.</td>\n",
       "      <td>Solo necesito que vengas conmigo.</td>\n",
       "    </tr>\n",
       "    <tr>\n",
       "      <th>3</th>\n",
       "      <td>Tom wondered how soon Mary would have dinner r...</td>\n",
       "      <td>Tom se preguntaba cuán pronto María tendría li...</td>\n",
       "    </tr>\n",
       "    <tr>\n",
       "      <th>4</th>\n",
       "      <td>Tom is waiting for an answer.</td>\n",
       "      <td>Tom está esperando una respuesta.</td>\n",
       "    </tr>\n",
       "  </tbody>\n",
       "</table>\n",
       "</div>"
      ],
      "text/plain": [
       "                                                  en  \\\n",
       "0                           I hope you're not alone.   \n",
       "1      When I was taking a bath, the telephone rang.   \n",
       "2                   I just need you to come with me.   \n",
       "3  Tom wondered how soon Mary would have dinner r...   \n",
       "4                      Tom is waiting for an answer.   \n",
       "\n",
       "                                                  es  \n",
       "0                          Espero que no estés solo.  \n",
       "1              Mientras me bañaba, sonó el teléfono.  \n",
       "2                  Solo necesito que vengas conmigo.  \n",
       "3  Tom se preguntaba cuán pronto María tendría li...  \n",
       "4                  Tom está esperando una respuesta.  "
      ]
     },
     "execution_count": 2,
     "metadata": {},
     "output_type": "execute_result"
    }
   ],
   "source": [
    "df = pd.read_csv(\"https://raw.githubusercontent.com/eduardofc/data/main/es_en.csv\")\n",
    "df.head()"
   ]
  },
  {
   "cell_type": "code",
   "execution_count": 6,
   "id": "363dcaaf",
   "metadata": {},
   "outputs": [
    {
     "data": {
      "text/plain": [
       "(10000, 2)"
      ]
     },
     "execution_count": 6,
     "metadata": {},
     "output_type": "execute_result"
    }
   ],
   "source": [
    "df.shape"
   ]
  },
  {
   "cell_type": "code",
   "execution_count": 7,
   "id": "54536dbf",
   "metadata": {},
   "outputs": [],
   "source": [
    "# spanish\n",
    "\n",
    "es_sentences = df.es.values\n",
    "es_tokenizer = Tokenizer()\n",
    "es_tokenizer.fit_on_texts(es_sentences)\n",
    "es_sequences = es_tokenizer.texts_to_sequences(es_sentences)"
   ]
  },
  {
   "cell_type": "code",
   "execution_count": 10,
   "id": "7b1d33ce",
   "metadata": {},
   "outputs": [],
   "source": [
    "# english\n",
    "\n",
    "en_sentences = df.en.values\n",
    "en_tokenizer = Tokenizer()\n",
    "en_tokenizer.fit_on_texts(en_sentences)\n",
    "en_sequences = en_tokenizer.texts_to_sequences(en_sentences)"
   ]
  },
  {
   "cell_type": "code",
   "execution_count": 14,
   "id": "207dfe6b",
   "metadata": {},
   "outputs": [
    {
     "name": "stdout",
     "output_type": "stream",
     "text": [
      "31\n",
      "25\n"
     ]
    }
   ],
   "source": [
    "# para el padding\n",
    "\n",
    "es_max_length = max([len(ss) for ss in es_sequences])\n",
    "en_max_length = max([len(ss) for ss in en_sequences])\n",
    "\n",
    "print(es_max_length)\n",
    "print(en_max_length)"
   ]
  },
  {
   "cell_type": "code",
   "execution_count": 17,
   "id": "aa2f7d67",
   "metadata": {},
   "outputs": [
    {
     "name": "stdout",
     "output_type": "stream",
     "text": [
      "7893\n",
      "5053\n"
     ]
    }
   ],
   "source": [
    "# vocabularios\n",
    "\n",
    "es_vocab = len(es_tokenizer.word_index) + 1\n",
    "en_vocab = len(en_tokenizer.word_index) + 1\n",
    "\n",
    "print(es_vocab)\n",
    "print(en_vocab)"
   ]
  },
  {
   "cell_type": "code",
   "execution_count": 18,
   "id": "77ae39f5",
   "metadata": {},
   "outputs": [],
   "source": [
    "# padding\n",
    "\n",
    "es_sequences_padded = pad_sequences(es_sequences, maxlen=es_max_length, truncating='post')\n",
    "en_sequences_padded = pad_sequences(en_sequences, maxlen=en_max_length, truncating='post')"
   ]
  },
  {
   "cell_type": "markdown",
   "id": "16eaba84",
   "metadata": {},
   "source": [
    "# Model"
   ]
  },
  {
   "cell_type": "code",
   "execution_count": 21,
   "id": "06116e7a",
   "metadata": {},
   "outputs": [
    {
     "name": "stdout",
     "output_type": "stream",
     "text": [
      "WARNING:tensorflow:From C:\\Users\\efclprd\\anaconda3\\envs\\nlp_course\\lib\\site-packages\\keras\\src\\backend.py:873: The name tf.get_default_graph is deprecated. Please use tf.compat.v1.get_default_graph instead.\n",
      "\n"
     ]
    }
   ],
   "source": [
    "keras.utils.set_random_seed(812)\n",
    "\n",
    "model = Sequential([\n",
    "    Embedding(\n",
    "        input_dim=es_vocab,\n",
    "        output_dim=128,\n",
    "        input_length=es_max_length\n",
    "    ),\n",
    "    LSTM(64, return_sequences=False), # encoder\n",
    "    RepeatVector(en_max_length),\n",
    "    LSTM(64, return_sequences=True, dropout=.2), # decoder\n",
    "    TimeDistributed(Dense(en_vocab, activation='softmax'))\n",
    "])"
   ]
  },
  {
   "cell_type": "code",
   "execution_count": 25,
   "id": "ddb87270",
   "metadata": {
    "scrolled": true
   },
   "outputs": [
    {
     "name": "stdout",
     "output_type": "stream",
     "text": [
      "Model: \"sequential\"\n",
      "_________________________________________________________________\n",
      " Layer (type)                Output Shape              Param #   \n",
      "=================================================================\n",
      " embedding (Embedding)       (None, 31, 128)           1010304   \n",
      "                                                                 \n",
      " lstm (LSTM)                 (None, 64)                49408     \n",
      "                                                                 \n",
      " repeat_vector (RepeatVecto  (None, 25, 64)            0         \n",
      " r)                                                              \n",
      "                                                                 \n",
      " lstm_1 (LSTM)               (None, 25, 64)            33024     \n",
      "                                                                 \n",
      " time_distributed (TimeDist  (None, 25, 5053)          328445    \n",
      " ributed)                                                        \n",
      "                                                                 \n",
      "=================================================================\n",
      "Total params: 1421181 (5.42 MB)\n",
      "Trainable params: 1421181 (5.42 MB)\n",
      "Non-trainable params: 0 (0.00 Byte)\n",
      "_________________________________________________________________\n"
     ]
    }
   ],
   "source": [
    "model.compile(\n",
    "    loss=sparse_categorical_crossentropy,\n",
    "    optimizer=Adam(1e-3),\n",
    "    metrics=['accuracy']\n",
    ")\n",
    "model.summary()"
   ]
  },
  {
   "cell_type": "code",
   "execution_count": 26,
   "id": "ffe056b4",
   "metadata": {
    "scrolled": true
   },
   "outputs": [
    {
     "name": "stdout",
     "output_type": "stream",
     "text": [
      "Epoch 1/35\n",
      "WARNING:tensorflow:From C:\\Users\\efclprd\\anaconda3\\envs\\nlp_course\\lib\\site-packages\\keras\\src\\engine\\base_layer_utils.py:384: The name tf.executing_eagerly_outside_functions is deprecated. Please use tf.compat.v1.executing_eagerly_outside_functions instead.\n",
      "\n",
      "313/313 [==============================] - 26s 70ms/step - loss: 2.1656 - accuracy: 0.7502\n",
      "Epoch 2/35\n",
      "313/313 [==============================] - 22s 69ms/step - loss: 1.8861 - accuracy: 0.7502\n",
      "Epoch 3/35\n",
      "313/313 [==============================] - 22s 69ms/step - loss: 1.6871 - accuracy: 0.7510\n",
      "Epoch 4/35\n",
      "313/313 [==============================] - 22s 70ms/step - loss: 1.6451 - accuracy: 0.7564\n",
      "Epoch 5/35\n",
      "313/313 [==============================] - 23s 72ms/step - loss: 1.6233 - accuracy: 0.7575\n",
      "Epoch 6/35\n",
      "313/313 [==============================] - 22s 69ms/step - loss: 1.6063 - accuracy: 0.7583\n",
      "Epoch 7/35\n",
      "313/313 [==============================] - 22s 69ms/step - loss: 1.5908 - accuracy: 0.7585\n",
      "Epoch 8/35\n",
      "313/313 [==============================] - 22s 69ms/step - loss: 1.5827 - accuracy: 0.7591\n",
      "Epoch 9/35\n",
      "313/313 [==============================] - 22s 69ms/step - loss: 1.5817 - accuracy: 0.7590\n",
      "Epoch 10/35\n",
      "313/313 [==============================] - 22s 69ms/step - loss: 1.5682 - accuracy: 0.7598\n",
      "Epoch 11/35\n",
      "313/313 [==============================] - 22s 70ms/step - loss: 1.5594 - accuracy: 0.7604\n",
      "Epoch 12/35\n",
      "313/313 [==============================] - 22s 69ms/step - loss: 1.5567 - accuracy: 0.7607\n",
      "Epoch 13/35\n",
      "313/313 [==============================] - 22s 69ms/step - loss: 1.5452 - accuracy: 0.7623\n",
      "Epoch 14/35\n",
      "313/313 [==============================] - 22s 69ms/step - loss: 1.5337 - accuracy: 0.7643\n",
      "Epoch 15/35\n",
      "313/313 [==============================] - 22s 69ms/step - loss: 1.5159 - accuracy: 0.7661\n",
      "Epoch 16/35\n",
      "313/313 [==============================] - 22s 69ms/step - loss: 1.4975 - accuracy: 0.7674\n",
      "Epoch 17/35\n",
      "313/313 [==============================] - 22s 69ms/step - loss: 1.4798 - accuracy: 0.7684\n",
      "Epoch 18/35\n",
      "313/313 [==============================] - 21s 69ms/step - loss: 1.4663 - accuracy: 0.7696\n",
      "Epoch 19/35\n",
      "313/313 [==============================] - 22s 69ms/step - loss: 1.4567 - accuracy: 0.7696\n",
      "Epoch 20/35\n",
      "313/313 [==============================] - 22s 69ms/step - loss: 1.4406 - accuracy: 0.7711\n",
      "Epoch 21/35\n",
      "313/313 [==============================] - 22s 69ms/step - loss: 1.4285 - accuracy: 0.7722\n",
      "Epoch 22/35\n",
      "313/313 [==============================] - 22s 69ms/step - loss: 1.4156 - accuracy: 0.7732\n",
      "Epoch 23/35\n",
      "313/313 [==============================] - 22s 69ms/step - loss: 1.3990 - accuracy: 0.7748\n",
      "Epoch 24/35\n",
      "313/313 [==============================] - 22s 69ms/step - loss: 1.3847 - accuracy: 0.7762\n",
      "Epoch 25/35\n",
      "313/313 [==============================] - 19s 61ms/step - loss: 1.3682 - accuracy: 0.7781\n",
      "Epoch 26/35\n",
      "313/313 [==============================] - 19s 60ms/step - loss: 1.3551 - accuracy: 0.7791\n",
      "Epoch 27/35\n",
      "313/313 [==============================] - 19s 60ms/step - loss: 1.3397 - accuracy: 0.7807\n",
      "Epoch 28/35\n",
      "313/313 [==============================] - 20s 63ms/step - loss: 1.3244 - accuracy: 0.7819\n",
      "Epoch 29/35\n",
      "313/313 [==============================] - 19s 62ms/step - loss: 1.3121 - accuracy: 0.7831\n",
      "Epoch 30/35\n",
      "313/313 [==============================] - 21s 68ms/step - loss: 1.3022 - accuracy: 0.7838\n",
      "Epoch 31/35\n",
      "313/313 [==============================] - 22s 69ms/step - loss: 1.2907 - accuracy: 0.7845\n",
      "Epoch 32/35\n",
      "313/313 [==============================] - 22s 69ms/step - loss: 1.2773 - accuracy: 0.7860\n",
      "Epoch 33/35\n",
      "313/313 [==============================] - 22s 69ms/step - loss: 1.2678 - accuracy: 0.7862\n",
      "Epoch 34/35\n",
      "313/313 [==============================] - 22s 70ms/step - loss: 1.2541 - accuracy: 0.7877\n",
      "Epoch 35/35\n",
      "313/313 [==============================] - 22s 69ms/step - loss: 1.2437 - accuracy: 0.7885\n",
      ">>>>>>>> elapsed time: 12.49m\n"
     ]
    }
   ],
   "source": [
    "start = time()\n",
    "\n",
    "n_epochs = 35\n",
    "\n",
    "model.fit(es_sequences_padded, en_sequences_padded, epochs=n_epochs)\n",
    "\n",
    "end = time()\n",
    "print(f\">>>>>>>> elapsed time: {(end-start)/60:.2f}m\")"
   ]
  },
  {
   "cell_type": "code",
   "execution_count": 52,
   "id": "9853a8b2",
   "metadata": {},
   "outputs": [],
   "source": [
    "# model.save(\"model_efc.h5\")"
   ]
  },
  {
   "cell_type": "markdown",
   "id": "6f02ebdf",
   "metadata": {},
   "source": [
    "# Predicciones"
   ]
  },
  {
   "cell_type": "code",
   "execution_count": 61,
   "id": "988a4ded",
   "metadata": {},
   "outputs": [],
   "source": [
    "from keras.models import load_model\n",
    "\n",
    "model = load_model(\"model_seqseq2_500.h5\")"
   ]
  },
  {
   "cell_type": "code",
   "execution_count": 64,
   "id": "2cab667f",
   "metadata": {},
   "outputs": [
    {
     "name": "stdout",
     "output_type": "stream",
     "text": [
      "He mirado por la ventana.\n",
      "I've looked out the window.\n",
      "1/1 [==============================] - 0s 26ms/step\n"
     ]
    },
    {
     "data": {
      "text/plain": [
       "\"i've looked out the window\""
      ]
     },
     "execution_count": 64,
     "metadata": {},
     "output_type": "execute_result"
    }
   ],
   "source": [
    "ii = 652\n",
    "ii = 876\n",
    "ii = 45\n",
    "ii = 666\n",
    "\n",
    "print(es_sentences[ii])\n",
    "print(en_sentences[ii])\n",
    "\n",
    "# prediccion\n",
    "\n",
    "preds = model.predict(es_sequences_padded[ii:ii+1])[0]\n",
    "# preds\n",
    "# np.argmax(preds, 1)\n",
    "# [en_tokenizer.index_word[ww] for ww in np.argmax(preds, 1) if ww != 0]\n",
    "' '.join([en_tokenizer.index_word[ww] for ww in np.argmax(preds, 1) if ww != 0])"
   ]
  },
  {
   "cell_type": "code",
   "execution_count": null,
   "id": "bf76c43a",
   "metadata": {},
   "outputs": [],
   "source": []
  },
  {
   "cell_type": "code",
   "execution_count": null,
   "id": "b3f646c0",
   "metadata": {},
   "outputs": [],
   "source": []
  },
  {
   "cell_type": "code",
   "execution_count": null,
   "id": "4eda7bd2",
   "metadata": {},
   "outputs": [],
   "source": []
  },
  {
   "cell_type": "code",
   "execution_count": null,
   "id": "ceec8cb4",
   "metadata": {},
   "outputs": [],
   "source": []
  }
 ],
 "metadata": {
  "kernelspec": {
   "display_name": "Python 3 (ipykernel)",
   "language": "python",
   "name": "python3"
  },
  "language_info": {
   "codemirror_mode": {
    "name": "ipython",
    "version": 3
   },
   "file_extension": ".py",
   "mimetype": "text/x-python",
   "name": "python",
   "nbconvert_exporter": "python",
   "pygments_lexer": "ipython3",
   "version": "3.10.13"
  }
 },
 "nbformat": 4,
 "nbformat_minor": 5
}
