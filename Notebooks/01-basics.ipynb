{
 "cells": [
  {
   "cell_type": "markdown",
   "id": "b90d418e",
   "metadata": {},
   "source": [
    "# Tokenizer"
   ]
  },
  {
   "cell_type": "markdown",
   "id": "19e3499e",
   "metadata": {},
   "source": [
    "Lo normal es usar librerias que me permitan usar los tokenizers. Aqui usamos Tensorflow pero Hugginface tiene otros tokens.  \n",
    "\n",
    "Hay tokens que son separators"
   ]
  },
  {
   "cell_type": "code",
   "execution_count": 1,
   "id": "00deaf20",
   "metadata": {},
   "outputs": [],
   "source": [
    "sentences = [\n",
    "    \"Me gusta la tortilla de patatas\",\n",
    "    \"La tortilla de champiñones es mucho mas jugosa\"\n",
    "]"
   ]
  },
  {
   "cell_type": "code",
   "execution_count": 2,
   "id": "4f3d27bd",
   "metadata": {},
   "outputs": [
    {
     "data": {
      "text/plain": [
       "['Me', 'gusta', 'la', 'tortilla', 'de', 'patatas']"
      ]
     },
     "execution_count": 2,
     "metadata": {},
     "output_type": "execute_result"
    }
   ],
   "source": [
    "sentences[0].split(\" \")"
   ]
  },
  {
   "cell_type": "markdown",
   "id": "3b5d4f32",
   "metadata": {},
   "source": [
    "Para importar el tokenizer, es un objeto, lo importo. El fit asocia numeros a mis palabras. Va a crear su propio vocabulario/diccionario.  \n"
   ]
  },
  {
   "cell_type": "markdown",
   "id": "7019742f",
   "metadata": {},
   "source": [
    "## Siempre debo tener un diccionario mapeado, un numero por palabras.  \n",
    "Cuando entrene algoritmos tendre 10M de palabras"
   ]
  },
  {
   "cell_type": "code",
   "execution_count": 3,
   "id": "0573c54b",
   "metadata": {},
   "outputs": [
    {
     "name": "stdout",
     "output_type": "stream",
     "text": [
      "WARNING:tensorflow:From C:\\Users\\efclprd\\anaconda3\\envs\\nlp_course\\lib\\site-packages\\keras\\src\\losses.py:2976: The name tf.losses.sparse_softmax_cross_entropy is deprecated. Please use tf.compat.v1.losses.sparse_softmax_cross_entropy instead.\n",
      "\n"
     ]
    }
   ],
   "source": [
    "from tensorflow.keras.preprocessing.text import Tokenizer\n",
    "\n",
    "tokenizer = Tokenizer()\n",
    "tokenizer.fit_on_texts(sentences)"
   ]
  },
  {
   "cell_type": "code",
   "execution_count": 4,
   "id": "10d3255e",
   "metadata": {},
   "outputs": [
    {
     "data": {
      "text/plain": [
       "{1: 'la',\n",
       " 2: 'tortilla',\n",
       " 3: 'de',\n",
       " 4: 'me',\n",
       " 5: 'gusta',\n",
       " 6: 'patatas',\n",
       " 7: 'champiñones',\n",
       " 8: 'es',\n",
       " 9: 'mucho',\n",
       " 10: 'mas',\n",
       " 11: 'jugosa'}"
      ]
     },
     "execution_count": 4,
     "metadata": {},
     "output_type": "execute_result"
    }
   ],
   "source": [
    "\"\"\" diccionario \"\"\"\n",
    "\n",
    "tokenizer.word_index\n",
    "tokenizer.index_word"
   ]
  },
  {
   "cell_type": "code",
   "execution_count": 5,
   "id": "9486720a",
   "metadata": {},
   "outputs": [
    {
     "data": {
      "text/plain": [
       "'Me gusta la tortilla de patatas'"
      ]
     },
     "execution_count": 5,
     "metadata": {},
     "output_type": "execute_result"
    }
   ],
   "source": [
    "sentences[0]"
   ]
  },
  {
   "cell_type": "markdown",
   "id": "f9e2ed9a",
   "metadata": {},
   "source": [
    "## Ahora vamos a limitar el vocabulario"
   ]
  },
  {
   "cell_type": "code",
   "execution_count": 6,
   "id": "4278eb5e",
   "metadata": {},
   "outputs": [
    {
     "data": {
      "text/plain": [
       "[[4, 5, 1, 2, 3, 6], [1, 2, 3, 7, 8, 9, 10, 11]]"
      ]
     },
     "execution_count": 6,
     "metadata": {},
     "output_type": "execute_result"
    }
   ],
   "source": [
    "tokenizer.texts_to_sequences(sentences)"
   ]
  },
  {
   "cell_type": "code",
   "execution_count": 7,
   "id": "8c11c4da",
   "metadata": {},
   "outputs": [
    {
     "data": {
      "text/plain": [
       "[[1, 1, 2, 3, 1, 1], [2, 3, 1, 1, 1, 1, 1, 1]]"
      ]
     },
     "execution_count": 7,
     "metadata": {},
     "output_type": "execute_result"
    }
   ],
   "source": [
    "# limitamos el vocabulario\n",
    "\n",
    "tam_vocab = 4\n",
    "tokenizer = Tokenizer(num_words=tam_vocab, oov_token='<OOV>')\n",
    "tokenizer.fit_on_texts(sentences)\n",
    "tokenizer.texts_to_sequences(sentences)"
   ]
  },
  {
   "cell_type": "code",
   "execution_count": 8,
   "id": "646ea2a2",
   "metadata": {},
   "outputs": [
    {
     "data": {
      "text/plain": [
       "{'<OOV>': 1,\n",
       " 'la': 2,\n",
       " 'tortilla': 3,\n",
       " 'de': 4,\n",
       " 'me': 5,\n",
       " 'gusta': 6,\n",
       " 'patatas': 7,\n",
       " 'champiñones': 8,\n",
       " 'es': 9,\n",
       " 'mucho': 10,\n",
       " 'mas': 11,\n",
       " 'jugosa': 12}"
      ]
     },
     "execution_count": 8,
     "metadata": {},
     "output_type": "execute_result"
    }
   ],
   "source": [
    "tokenizer.word_index"
   ]
  },
  {
   "cell_type": "markdown",
   "id": "7bc05a6f",
   "metadata": {},
   "source": [
    "# Padding"
   ]
  },
  {
   "cell_type": "markdown",
   "id": "313c3e61",
   "metadata": {},
   "source": [
    "Si tengo una secuencia con 6 palabras y otra con 8, ajusto todas las secuencias al maximo de las 2, a 8 por ejemplo, o al minimo por ejemplo, o a 7. Por que se usa? En una red neuronal, fijo un tamano fijo siempre de entrada, por lo que le meto la longitud de la frase y lo relleno con 0s. (0,0,0,1,3,2,0,0)"
   ]
  },
  {
   "cell_type": "code",
   "execution_count": 9,
   "id": "3c4d16f9",
   "metadata": {},
   "outputs": [
    {
     "data": {
      "text/plain": [
       "[[5, 6, 2, 3, 4, 7], [2, 3, 4, 8, 9, 10, 11, 12]]"
      ]
     },
     "execution_count": 9,
     "metadata": {},
     "output_type": "execute_result"
    }
   ],
   "source": [
    "tam_vocab = 100\n",
    "tokenizer = Tokenizer(num_words=tam_vocab, oov_token='<OOV>')\n",
    "tokenizer.fit_on_texts(sentences)\n",
    "tokenized_sentences = tokenizer.texts_to_sequences(sentences)\n",
    "tokenized_sentences"
   ]
  },
  {
   "cell_type": "code",
   "execution_count": 10,
   "id": "ab670411",
   "metadata": {},
   "outputs": [
    {
     "data": {
      "text/plain": [
       "array([[ 0,  0,  5,  6,  2,  3,  4,  7],\n",
       "       [ 2,  3,  4,  8,  9, 10, 11, 12]])"
      ]
     },
     "execution_count": 10,
     "metadata": {},
     "output_type": "execute_result"
    }
   ],
   "source": [
    "from tensorflow.keras.preprocessing.sequence import pad_sequences\n",
    "\n",
    "pad_sequences(tokenized_sentences)"
   ]
  },
  {
   "cell_type": "code",
   "execution_count": 11,
   "id": "644611bf",
   "metadata": {},
   "outputs": [],
   "source": [
    "sentences = [\n",
    "    \"Me gusta la tortilla de patatas\",\n",
    "    \"La tortilla de champiñones es mucho mas jugosa\",\n",
    "    \"Los champiñones con jamon y un poco de vinagre saben genial\"\n",
    "]"
   ]
  },
  {
   "cell_type": "code",
   "execution_count": 12,
   "id": "2f3d5c68",
   "metadata": {},
   "outputs": [
    {
     "data": {
      "text/plain": [
       "array([[ 0,  0,  0,  0,  0,  6,  7,  3,  4,  2,  8],\n",
       "       [ 0,  0,  0,  3,  4,  2,  5,  9, 10, 11, 12],\n",
       "       [13,  5, 14, 15, 16, 17, 18,  2, 19, 20, 21]])"
      ]
     },
     "execution_count": 12,
     "metadata": {},
     "output_type": "execute_result"
    }
   ],
   "source": [
    "tam_vocab = 100\n",
    "tokenizer = Tokenizer(num_words=tam_vocab, oov_token='<OOV>')\n",
    "tokenizer.fit_on_texts(sentences)\n",
    "tokenized_sentences = tokenizer.texts_to_sequences(sentences)\n",
    "tokenized_sentences\n",
    "pad_sequences(tokenized_sentences)"
   ]
  },
  {
   "cell_type": "code",
   "execution_count": 13,
   "id": "29726e81",
   "metadata": {},
   "outputs": [
    {
     "data": {
      "text/plain": [
       "array([[ 7,  3,  4,  2,  8],\n",
       "       [ 5,  9, 10, 11, 12],\n",
       "       [18,  2, 19, 20, 21]])"
      ]
     },
     "execution_count": 13,
     "metadata": {},
     "output_type": "execute_result"
    }
   ],
   "source": [
    "pad_sequences(tokenized_sentences, maxlen=5)"
   ]
  },
  {
   "cell_type": "code",
   "execution_count": 14,
   "id": "ad87edeb",
   "metadata": {},
   "outputs": [
    {
     "data": {
      "text/plain": [
       "array([[ 7,  3,  4,  2,  8],\n",
       "       [ 5,  9, 10, 11, 12],\n",
       "       [18,  2, 19, 20, 21]])"
      ]
     },
     "execution_count": 14,
     "metadata": {},
     "output_type": "execute_result"
    }
   ],
   "source": [
    "pad_sequences(tokenized_sentences, truncating='post', maxlen=5)\n",
    "pad_sequences(tokenized_sentences, truncating='pre', maxlen=5)"
   ]
  },
  {
   "cell_type": "code",
   "execution_count": 15,
   "id": "0968eb6d",
   "metadata": {},
   "outputs": [
    {
     "data": {
      "text/plain": [
       "array([[ 0,  0,  0,  0,  0,  6,  7,  3,  4,  2,  8],\n",
       "       [ 0,  0,  0,  3,  4,  2,  5,  9, 10, 11, 12],\n",
       "       [13,  5, 14, 15, 16, 17, 18,  2, 19, 20, 21]])"
      ]
     },
     "execution_count": 15,
     "metadata": {},
     "output_type": "execute_result"
    }
   ],
   "source": [
    "pad_sequences(tokenized_sentences, padding='post')\n",
    "pad_sequences(tokenized_sentences, padding='pre')"
   ]
  },
  {
   "cell_type": "markdown",
   "id": "3f0041a6",
   "metadata": {},
   "source": [
    "# Stemming"
   ]
  },
  {
   "cell_type": "markdown",
   "id": "afd166b8",
   "metadata": {},
   "source": [
    "Stemming  \n",
    "De Me -> me, de gusta -> gust, de mucho -> much.  \n",
    "Se queda con la raiz, tiene sentido, te ahorras vocabulario. \n",
    "\n",
    "Lemmatization \n",
    "Me -> yo, gusta -> gustar, la-> el, patatas -> patata.\n",
    "Para algo generativo esto no me vale, pero para hacer una categorizacion de textos si, por ejemplo"
   ]
  },
  {
   "cell_type": "code",
   "execution_count": 16,
   "id": "2c9f35dc",
   "metadata": {},
   "outputs": [],
   "source": [
    "sentences = [\n",
    "    \"Me gusta la tortilla de patatas\",\n",
    "    \"La tortilla de champiñones es mucho mas jugosa\",\n",
    "    \"Yo marco un gol por minuto\",\n",
    "    \"El marco de un cuadro está roto\"\n",
    "]"
   ]
  },
  {
   "cell_type": "code",
   "execution_count": 17,
   "id": "feb8b713",
   "metadata": {},
   "outputs": [],
   "source": [
    "from nltk.stem import SnowballStemmer\n",
    "\n",
    "stemmer = SnowballStemmer('spanish')"
   ]
  },
  {
   "cell_type": "code",
   "execution_count": 18,
   "id": "6aab54da",
   "metadata": {},
   "outputs": [
    {
     "name": "stdout",
     "output_type": "stream",
     "text": [
      "Me --> me\n",
      "gusta --> gust\n",
      "la --> la\n",
      "tortilla --> tortill\n",
      "de --> de\n",
      "patatas --> patat\n",
      "La --> la\n",
      "tortilla --> tortill\n",
      "de --> de\n",
      "champiñones --> champiñon\n",
      "es --> es\n",
      "mucho --> much\n",
      "mas --> mas\n",
      "jugosa --> jugos\n",
      "Yo --> yo\n",
      "marco --> marc\n",
      "un --> un\n",
      "gol --> gol\n",
      "por --> por\n",
      "minuto --> minut\n",
      "El --> el\n",
      "marco --> marc\n",
      "de --> de\n",
      "un --> un\n",
      "cuadro --> cuadr\n",
      "está --> esta\n",
      "roto --> rot\n"
     ]
    }
   ],
   "source": [
    "for sentence in sentences:\n",
    "    for word in sentence.split():\n",
    "        stemmed_word = stemmer.stem(word)\n",
    "        print(f\"{word} --> {stemmed_word}\")"
   ]
  },
  {
   "cell_type": "markdown",
   "id": "1443f2b5",
   "metadata": {},
   "source": [
    "# Lemmatizing"
   ]
  },
  {
   "cell_type": "code",
   "execution_count": 19,
   "id": "affbcb72",
   "metadata": {},
   "outputs": [],
   "source": [
    "import spacy\n",
    "\n",
    "nlp = spacy.load(\"es_core_news_sm\")"
   ]
  },
  {
   "cell_type": "code",
   "execution_count": 20,
   "id": "290072d2",
   "metadata": {},
   "outputs": [
    {
     "name": "stdout",
     "output_type": "stream",
     "text": [
      "Me --> yo\n",
      "gusta --> gustar\n",
      "la --> el\n",
      "tortilla --> tortilla\n",
      "de --> de\n",
      "patatas --> patata\n",
      "La --> el\n",
      "tortilla --> tortilla\n",
      "de --> de\n",
      "champiñones --> champiñón\n",
      "es --> ser\n",
      "mucho --> mucho\n",
      "mas --> mas\n",
      "jugosa --> jugoso\n",
      "Yo --> yo\n",
      "marco --> marcar\n",
      "un --> uno\n",
      "gol --> gol\n",
      "por --> por\n",
      "minuto --> minuto\n",
      "El --> el\n",
      "marco --> marco\n",
      "de --> de\n",
      "un --> uno\n",
      "cuadro --> cuadro\n",
      "está --> estar\n",
      "roto --> roto\n"
     ]
    }
   ],
   "source": [
    "for sentence in sentences:\n",
    "    doc = nlp(sentence)\n",
    "    for word in doc:\n",
    "        lemmatized_word = word.lemma_\n",
    "        print(f\"{word} --> {lemmatized_word}\")"
   ]
  },
  {
   "cell_type": "markdown",
   "id": "513d4689",
   "metadata": {},
   "source": [
    "# Stopwords"
   ]
  },
  {
   "cell_type": "markdown",
   "id": "00d99caa",
   "metadata": {},
   "source": [
    "Coges los articulos y los eliminas, los filtras, preposiciones, conectores, adv, etc."
   ]
  },
  {
   "cell_type": "code",
   "execution_count": 21,
   "id": "eb9d63a8",
   "metadata": {},
   "outputs": [
    {
     "name": "stdout",
     "output_type": "stream",
     "text": [
      "{'atras', 'posible', 'ésos', 'segun', 'podrias', 'ultimo', 'sido', 'cuantos', 'aún', 'cuantas', 'tuyos', 'bien', 'nueva', 'modo', 'demás', 'su', 'todos', 'estos', 'ustedes', 'habrá', 'ningún', 'delante', 'hacerlo', 'mismos', 'muy', 'aquí', 'ya', 'poner', 'buena', 'quienes', 'consigues', 'podrá', 'éstas', 'dice', 'haber', 'tres', 'o', 'vosotros', 'poca', 'hago', 'míos', 'quiza', 'otro', 'aquél', 'nunca', 'tenga', 'ahi', 'consigue', 'llegó', 'ante', 'ningunas', 'podriais', 'supuesto', 'mía', 'tuvo', 'ambos', 'día', 'buen', 'quién', 'nuestra', 'van', 'salvo', 'sabe', 'excepto', 'sean', 'nuevos', 'u', 'he', 'pueda', 'sino', 'proximo', 'tú', 'segundo', 'sabeis', 'estamos', 'sola', 'mio', 'hecho', 'usted', 'parece', 'todavía', 'detrás', 'comentó', 'llevar', 'menudo', 'aproximadamente', 'grandes', 'cuándo', 'existe', 'apenas', 'tener', 'parte', 'hicieron', 'pronto', 'una', 'grande', 'ciertas', 'ellos', 'sabemos', 'fui', 'un', 'tuya', 'afirmó', 'muchos', 'sea', 'mia', 'estados', 'allí', 'cuánta', 'mucho', 'mal', 'demasiado', 'puede', 'pues', 'estar', 'cuántos', 'buenas', 'sigue', 'verdadero', 'cuanta', 'ella', 'diez', 'han', 'doce', 'fue', 'hemos', 'pasada', 'usamos', 'era', 'trata', 'adelante', 'largo', 'propio', 'diferente', 'estará', 'cuenta', 'cuáles', 'nadie', 'alguno', 'mias', 'propia', 'quizás', 'voy', 'quiere', 'tuyas', 'serán', 'conocer', 'once', 'mas', 'él', 'eramos', 'estaba', 'así', 'cuánto', 'habla', 'hubo', 'ello', 'claro', 'señaló', 'estuvo', 'aquéllos', 'primero', 'cierta', 'conseguir', 'alli', 'da', 'haceis', 'más', 'aunque', 'habia', 'son', 'qeu', 'podrán', 'están', 'tendrá', 'tengo', 'unas', 'quien', 'hablan', 'encuentra', 'vuestro', 'dias', 'veces', 'decir', 'pueden', 'algunos', 'pero', 'hoy', 'cómo', 'pocas', 'y', 'tenemos', 'varias', 'debido', 'detras', 'repente', 'quiénes', 'breve', 'habían', 'tenía', 'cuanto', 'mayor', 'tambien', 'indicó', 'al', 'usa', 'suyo', 'ser', 'siete', 'otros', 'dónde', 'primer', 'quizas', 'verdad', 'fuera', 'del', 'solo', 'podeis', 'tanto', 'hacemos', 'sois', 'suyos', 'este', 'luego', 'ahí', 'fin', 'mío', 'dos', 'éstos', 'dieron', 'hacen', 'mías', 'anterior', 'el', 'tercera', 'mediante', 'paìs', 'tan', 'bajo', 'después', 'sera', 'haces', 'e', 'gran', 'podriamos', 'será', 'sus', 'por', 'puedo', 'fueron', 'próximo', 'porque', 'mucha', 'qué', 'aqui', 'dia', 'solamente', 'vez', 'estas', 'antes', 'propias', 'algún', 'ademas', 'todavia', 'éste', 'somos', 'quedó', 'suya', 'expresó', 'realizó', 'contigo', 'de', 'suyas', 'está', 'vuestra', 'aquello', 'tus', 'me', 'consigo', 'consiguen', 'informo', 'ocho', 'nada', 'tuyo', 'dado', 'sé', 'acuerdo', 'dio', 'a', 'aun', 'última', 'últimas', 'conmigo', 'vamos', 'entonces', 'vuestras', 'dijo', 'sólo', 'podemos', 'es', 'explicó', 'total', 'aquellas', 'como', 'estado', 'todas', 'aquellos', 'poco', 'algunas', 'se', 'peor', 'dijeron', 'último', 'agregó', 'cuando', 'diferentes', 'podrian', 'estais', 'tal', 'varios', 'cuántas', 'realizado', 'deprisa', 'todo', 'cual', 'ninguna', 'usan', 'eras', 'cada', 'mientras', 'hizo', 'mismo', 'nuestro', 'segunda', 'ha', 'tiene', 'vaya', 'vuestros', 'esta', 'ninguno', 'que', 'tras', 'final', 'mejor', 'aseguró', 'pocos', 'alguna', 'despacio', 'ellas', 'mi', 'nosotros', 'usais', 'bueno', 'cualquier', 'ciertos', 'si', 'consideró', 'con', 'mios', 'existen', 'despues', 'encima', 'próximos', 'en', 'esto', 'informó', 'aquella', 'hay', 'hace', 'respecto', 'estan', 'uno', 'realizar', 'conseguimos', 'deben', 'algo', 'sí', 'junto', 'aquéllas', 'creo', 'donde', 'considera', 'estaban', 'para', 'asi', 'eran', 'soy', 'enfrente', 'quizá', 'mis', 'misma', 'eres', 'debajo', 'lleva', 'ningunos', 'seis', 'la', 'esa', 'vais', 'alrededor', 'dentro', 'tu', 'desde', 'vosotras', 'ésta', 'usas', 'días', 'cinco', 'casi', 'dejó', 'medio', 'tampoco', 'estoy', 'ése', 'podría', 'teneis', 'había', 'tenido', 'otra', 'dicen', 'mismas', 'le', 'va', 'esos', 'tendrán', 'menos', 'contra', 'hacer', 'partir', 'yo', 'uso', 'incluso', 'nuevo', 'debe', 'sería', 'tercero', 'te', 'aquel', 'siendo', 'enseguida', 'embargo', 'cuál', 'ésas', 'ésa', 'arriba', 'ahora', 'dan', 'temprano', 'sin', 'queremos', 'dicho', 'saber', 'nuestras', 'cierto', 'pudo', 'lo', 'hacia', 'los', 'siempre', 'pesar', 'entre', 'además', 'podrían', 'igual', 'añadió', 'ir', 'nosotras', 'solos', 'usar', 'otras', 'verdadera', 'os', 'sabes', 'hasta', 'ni', 'primeros', 'durante', 'esas', 'pasado', 'también', 'tienen', 'ti', 'no', 'unos', 'haciendo', 'toda', 'eso', 'manifestó', 'mencionó', 'propios', 'sobre', 'buenos', 'cuales', 'saben', 'nueve', 'fuimos', 'podria', 'siguiente', 'poder', 'nuestros', 'través', 'dar', 'bastante', 'muchas', 'primera', 'ver', 'lado', 'las', 'les', 'aquélla', 'últimos', 'nuevas', 'manera', 'mí', 'haya', 'cuatro', 'tarde', 'solas', 'según', 'ese', 'nos'}\n"
     ]
    }
   ],
   "source": [
    "stopwords_list = nlp.Defaults.stop_words\n",
    "print(stopwords_list)"
   ]
  },
  {
   "cell_type": "markdown",
   "id": "337a3a20",
   "metadata": {},
   "source": [
    "# Ejemplo de clasificación de textos"
   ]
  },
  {
   "cell_type": "markdown",
   "id": "edc64fcb",
   "metadata": {},
   "source": [
    "## Dataset de Amazon"
   ]
  },
  {
   "cell_type": "code",
   "execution_count": 22,
   "id": "6a042420",
   "metadata": {},
   "outputs": [
    {
     "data": {
      "text/html": [
       "<div>\n",
       "<style scoped>\n",
       "    .dataframe tbody tr th:only-of-type {\n",
       "        vertical-align: middle;\n",
       "    }\n",
       "\n",
       "    .dataframe tbody tr th {\n",
       "        vertical-align: top;\n",
       "    }\n",
       "\n",
       "    .dataframe thead th {\n",
       "        text-align: right;\n",
       "    }\n",
       "</style>\n",
       "<table border=\"1\" class=\"dataframe\">\n",
       "  <thead>\n",
       "    <tr style=\"text-align: right;\">\n",
       "      <th></th>\n",
       "      <th>stars</th>\n",
       "      <th>review_body</th>\n",
       "      <th>review_title</th>\n",
       "      <th>product_category</th>\n",
       "    </tr>\n",
       "  </thead>\n",
       "  <tbody>\n",
       "    <tr>\n",
       "      <th>0</th>\n",
       "      <td>1</td>\n",
       "      <td>Jamás me llegó y el vendedor nunca contacto co...</td>\n",
       "      <td>Jamás me llegó</td>\n",
       "      <td>home</td>\n",
       "    </tr>\n",
       "    <tr>\n",
       "      <th>1</th>\n",
       "      <td>1</td>\n",
       "      <td>Pone que son 4 piezas y la realidad es que es ...</td>\n",
       "      <td>Mala descripción</td>\n",
       "      <td>home</td>\n",
       "    </tr>\n",
       "    <tr>\n",
       "      <th>2</th>\n",
       "      <td>1</td>\n",
       "      <td>Saltan los plomos al tercer día de uso. A devo...</td>\n",
       "      <td>Saltan los plomos al utilizarla</td>\n",
       "      <td>home</td>\n",
       "    </tr>\n",
       "    <tr>\n",
       "      <th>3</th>\n",
       "      <td>1</td>\n",
       "      <td>No me ha gustado de hecho la devolví . Súper p...</td>\n",
       "      <td>No merece la pena</td>\n",
       "      <td>home</td>\n",
       "    </tr>\n",
       "    <tr>\n",
       "      <th>4</th>\n",
       "      <td>1</td>\n",
       "      <td>Por más que busque, no le encuentro el agujero...</td>\n",
       "      <td>No tiene agujero para rellenar la piñata</td>\n",
       "      <td>home</td>\n",
       "    </tr>\n",
       "  </tbody>\n",
       "</table>\n",
       "</div>"
      ],
      "text/plain": [
       "   stars                                        review_body  \\\n",
       "0      1  Jamás me llegó y el vendedor nunca contacto co...   \n",
       "1      1  Pone que son 4 piezas y la realidad es que es ...   \n",
       "2      1  Saltan los plomos al tercer día de uso. A devo...   \n",
       "3      1  No me ha gustado de hecho la devolví . Súper p...   \n",
       "4      1  Por más que busque, no le encuentro el agujero...   \n",
       "\n",
       "                               review_title product_category  \n",
       "0                            Jamás me llegó             home  \n",
       "1                          Mala descripción             home  \n",
       "2           Saltan los plomos al utilizarla             home  \n",
       "3                         No merece la pena             home  \n",
       "4  No tiene agujero para rellenar la piñata             home  "
      ]
     },
     "execution_count": 22,
     "metadata": {},
     "output_type": "execute_result"
    }
   ],
   "source": [
    "import pandas as pd\n",
    "\n",
    "df = pd.read_csv(\"https://raw.githubusercontent.com/eduardofc/data/main/amazon_home.csv\")\n",
    "df.head()"
   ]
  },
  {
   "cell_type": "code",
   "execution_count": 23,
   "id": "82b45049",
   "metadata": {},
   "outputs": [
    {
     "data": {
      "text/html": [
       "<div>\n",
       "<style scoped>\n",
       "    .dataframe tbody tr th:only-of-type {\n",
       "        vertical-align: middle;\n",
       "    }\n",
       "\n",
       "    .dataframe tbody tr th {\n",
       "        vertical-align: top;\n",
       "    }\n",
       "\n",
       "    .dataframe thead th {\n",
       "        text-align: right;\n",
       "    }\n",
       "</style>\n",
       "<table border=\"1\" class=\"dataframe\">\n",
       "  <thead>\n",
       "    <tr style=\"text-align: right;\">\n",
       "      <th></th>\n",
       "      <th>stars</th>\n",
       "      <th>review_body</th>\n",
       "      <th>review_title</th>\n",
       "      <th>product_category</th>\n",
       "    </tr>\n",
       "  </thead>\n",
       "  <tbody>\n",
       "    <tr>\n",
       "      <th>26957</th>\n",
       "      <td>5</td>\n",
       "      <td>Lo esperado, buena toalla.</td>\n",
       "      <td>Bien</td>\n",
       "      <td>home</td>\n",
       "    </tr>\n",
       "    <tr>\n",
       "      <th>26958</th>\n",
       "      <td>5</td>\n",
       "      <td>Tal y como viene explicado en la descripción. ...</td>\n",
       "      <td>Bonito y práctico</td>\n",
       "      <td>home</td>\n",
       "    </tr>\n",
       "    <tr>\n",
       "      <th>26959</th>\n",
       "      <td>5</td>\n",
       "      <td>Sartén antiadherente para todo tipo de comidas...</td>\n",
       "      <td>Sartén antiadherente</td>\n",
       "      <td>home</td>\n",
       "    </tr>\n",
       "    <tr>\n",
       "      <th>26960</th>\n",
       "      <td>5</td>\n",
       "      <td>llego de un día para otro, super fácil de mont...</td>\n",
       "      <td>calidad precio</td>\n",
       "      <td>home</td>\n",
       "    </tr>\n",
       "    <tr>\n",
       "      <th>26961</th>\n",
       "      <td>5</td>\n",
       "      <td>Súper bien! Las brochas son buenas, no sé meno...</td>\n",
       "      <td>Preciosas</td>\n",
       "      <td>home</td>\n",
       "    </tr>\n",
       "  </tbody>\n",
       "</table>\n",
       "</div>"
      ],
      "text/plain": [
       "       stars                                        review_body  \\\n",
       "26957      5                         Lo esperado, buena toalla.   \n",
       "26958      5  Tal y como viene explicado en la descripción. ...   \n",
       "26959      5  Sartén antiadherente para todo tipo de comidas...   \n",
       "26960      5  llego de un día para otro, super fácil de mont...   \n",
       "26961      5  Súper bien! Las brochas son buenas, no sé meno...   \n",
       "\n",
       "               review_title product_category  \n",
       "26957                  Bien             home  \n",
       "26958     Bonito y práctico             home  \n",
       "26959  Sartén antiadherente             home  \n",
       "26960        calidad precio             home  \n",
       "26961             Preciosas             home  "
      ]
     },
     "execution_count": 23,
     "metadata": {},
     "output_type": "execute_result"
    }
   ],
   "source": [
    "df.tail()"
   ]
  },
  {
   "cell_type": "code",
   "execution_count": 24,
   "id": "ffb2a5ed",
   "metadata": {},
   "outputs": [
    {
     "data": {
      "text/plain": [
       "(26962, 4)"
      ]
     },
     "execution_count": 24,
     "metadata": {},
     "output_type": "execute_result"
    }
   ],
   "source": [
    "df.shape"
   ]
  },
  {
   "cell_type": "code",
   "execution_count": 25,
   "id": "441610fa",
   "metadata": {},
   "outputs": [
    {
     "data": {
      "text/plain": [
       "stars\n",
       "1    5391\n",
       "2    5542\n",
       "3    5477\n",
       "4    5309\n",
       "5    5243\n",
       "dtype: int64"
      ]
     },
     "execution_count": 25,
     "metadata": {},
     "output_type": "execute_result"
    }
   ],
   "source": [
    "df.groupby('stars').size()"
   ]
  },
  {
   "cell_type": "code",
   "execution_count": 26,
   "id": "8d753965",
   "metadata": {},
   "outputs": [
    {
     "data": {
      "text/plain": [
       "stars\n",
       "1    5391\n",
       "5    5243\n",
       "dtype: int64"
      ]
     },
     "execution_count": 26,
     "metadata": {},
     "output_type": "execute_result"
    }
   ],
   "source": [
    "df1 = df[df.stars==1]\n",
    "df5 = df[df.stars==5]\n",
    "\n",
    "df = pd.concat([df1, df5])\n",
    "df.groupby(\"stars\").size()"
   ]
  },
  {
   "cell_type": "markdown",
   "id": "c5b237db",
   "metadata": {},
   "source": [
    "## Creo columna 1 si es 5stars y 0 else"
   ]
  },
  {
   "cell_type": "code",
   "execution_count": 27,
   "id": "eae4e885",
   "metadata": {},
   "outputs": [],
   "source": [
    "df['good_product'] = df.stars.map(lambda x: 1 if x==5 else 0)\n",
    "df = df[['review_body', 'good_product']]"
   ]
  },
  {
   "cell_type": "markdown",
   "id": "bfae76b7",
   "metadata": {},
   "source": [
    "## Preprocessing"
   ]
  },
  {
   "cell_type": "code",
   "execution_count": 28,
   "id": "02fe582c",
   "metadata": {},
   "outputs": [
    {
     "data": {
      "text/plain": [
       "'Jamás vendedor contacto co ...'"
      ]
     },
     "execution_count": 28,
     "metadata": {},
     "output_type": "execute_result"
    }
   ],
   "source": [
    "# quitar las stopwords\n",
    "\n",
    "from nltk.tokenize import word_tokenize\n",
    "\n",
    "def remove_stopwords(txt):\n",
    "    tokens = word_tokenize(txt)\n",
    "    filtered_tokens = [word for word in tokens if word.lower() not in stopwords_list]\n",
    "    return ' '.join(filtered_tokens)\n",
    "\n",
    "txt = 'Jamás me llegó y el vendedor nunca contacto co...'\n",
    "remove_stopwords(txt)"
   ]
  },
  {
   "cell_type": "code",
   "execution_count": 29,
   "id": "0260cd17",
   "metadata": {},
   "outputs": [
    {
     "data": {
      "text/plain": [
       "'jamás yo llegar y el vendedor nunca contactar co ...'"
      ]
     },
     "execution_count": 29,
     "metadata": {},
     "output_type": "execute_result"
    }
   ],
   "source": [
    "# lemmatizing\n",
    "\n",
    "def lemmatize(txt):\n",
    "    doc = nlp(txt)\n",
    "    lemas = [word.lemma_ for word in doc]\n",
    "    return ' '.join(lemas)\n",
    "\n",
    "txt = 'Jamás me llegó y el vendedor nunca contacto co...'\n",
    "lemmatize(txt)"
   ]
  },
  {
   "cell_type": "code",
   "execution_count": 30,
   "id": "fdcf8158",
   "metadata": {},
   "outputs": [
    {
     "data": {
      "text/plain": [
       "'jamás me llegó y el vendedor nunca contacto co...'"
      ]
     },
     "execution_count": 30,
     "metadata": {},
     "output_type": "execute_result"
    }
   ],
   "source": [
    "# limpieza con regex\n",
    "\n",
    "import re\n",
    "\n",
    "def cleansing(txt):\n",
    "    return re.sub('[^a-zA-Záéíóúü .,]', '', txt.lower())\n",
    "\n",
    "txt = 'Jamás me llegó y el vendedor nunca contacto co...'\n",
    "cleansing(txt)"
   ]
  },
  {
   "cell_type": "code",
   "execution_count": 31,
   "id": "b9775d25",
   "metadata": {},
   "outputs": [],
   "source": [
    "df['text'] =df.review_body.map(remove_stopwords)\n",
    "df['text'] =df.text.map(lemmatize)"
   ]
  },
  {
   "cell_type": "code",
   "execution_count": 32,
   "id": "c864ef7d",
   "metadata": {},
   "outputs": [
    {
     "data": {
      "text/html": [
       "<div>\n",
       "<style scoped>\n",
       "    .dataframe tbody tr th:only-of-type {\n",
       "        vertical-align: middle;\n",
       "    }\n",
       "\n",
       "    .dataframe tbody tr th {\n",
       "        vertical-align: top;\n",
       "    }\n",
       "\n",
       "    .dataframe thead th {\n",
       "        text-align: right;\n",
       "    }\n",
       "</style>\n",
       "<table border=\"1\" class=\"dataframe\">\n",
       "  <thead>\n",
       "    <tr style=\"text-align: right;\">\n",
       "      <th></th>\n",
       "      <th>review_body</th>\n",
       "      <th>good_product</th>\n",
       "      <th>text</th>\n",
       "    </tr>\n",
       "  </thead>\n",
       "  <tbody>\n",
       "    <tr>\n",
       "      <th>0</th>\n",
       "      <td>Jamás me llegó y el vendedor nunca contacto co...</td>\n",
       "      <td>0</td>\n",
       "      <td>jamás vendedor contacto intentar él 2</td>\n",
       "    </tr>\n",
       "    <tr>\n",
       "      <th>1</th>\n",
       "      <td>Pone que son 4 piezas y la realidad es que es ...</td>\n",
       "      <td>0</td>\n",
       "      <td>poner 4 pieza realidad 3 pieza</td>\n",
       "    </tr>\n",
       "    <tr>\n",
       "      <th>2</th>\n",
       "      <td>Saltan los plomos al tercer día de uso. A devo...</td>\n",
       "      <td>0</td>\n",
       "      <td>saltar plomos tercer . devolver</td>\n",
       "    </tr>\n",
       "    <tr>\n",
       "      <th>3</th>\n",
       "      <td>No me ha gustado de hecho la devolví . Súper p...</td>\n",
       "      <td>0</td>\n",
       "      <td>gustado devolví . súper pesado manejar</td>\n",
       "    </tr>\n",
       "    <tr>\n",
       "      <th>4</th>\n",
       "      <td>Por más que busque, no le encuentro el agujero...</td>\n",
       "      <td>0</td>\n",
       "      <td>buscar , encuentro agujero meter chuch . instr...</td>\n",
       "    </tr>\n",
       "  </tbody>\n",
       "</table>\n",
       "</div>"
      ],
      "text/plain": [
       "                                         review_body  good_product  \\\n",
       "0  Jamás me llegó y el vendedor nunca contacto co...             0   \n",
       "1  Pone que son 4 piezas y la realidad es que es ...             0   \n",
       "2  Saltan los plomos al tercer día de uso. A devo...             0   \n",
       "3  No me ha gustado de hecho la devolví . Súper p...             0   \n",
       "4  Por más que busque, no le encuentro el agujero...             0   \n",
       "\n",
       "                                                text  \n",
       "0              jamás vendedor contacto intentar él 2  \n",
       "1                     poner 4 pieza realidad 3 pieza  \n",
       "2                    saltar plomos tercer . devolver  \n",
       "3             gustado devolví . súper pesado manejar  \n",
       "4  buscar , encuentro agujero meter chuch . instr...  "
      ]
     },
     "execution_count": 32,
     "metadata": {},
     "output_type": "execute_result"
    }
   ],
   "source": [
    "df.head()"
   ]
  },
  {
   "cell_type": "markdown",
   "id": "43dd7302",
   "metadata": {},
   "source": [
    "## Modelo"
   ]
  },
  {
   "cell_type": "code",
   "execution_count": 33,
   "id": "d8cb58d7",
   "metadata": {},
   "outputs": [],
   "source": [
    "sentences_bad_product = df[df.good_product==0]['text'].to_list()\n",
    "\n",
    "tam_vocab = 30\n",
    "\n",
    "tokenizer_bad = Tokenizer(num_words=tam_vocab)\n",
    "tokenizer_bad.fit_on_texts(sentences_bad_product)"
   ]
  },
  {
   "cell_type": "code",
   "execution_count": 34,
   "id": "b934f240",
   "metadata": {},
   "outputs": [],
   "source": [
    "# tokenizer_bad.word_index"
   ]
  },
  {
   "cell_type": "code",
   "execution_count": 35,
   "id": "c9ad678d",
   "metadata": {},
   "outputs": [],
   "source": [
    "all_texts = df['text'].to_list()\n",
    "\n",
    "tokenized_bad = tokenizer_bad.texts_to_sequences(all_texts)"
   ]
  },
  {
   "cell_type": "code",
   "execution_count": 36,
   "id": "6365eb9f",
   "metadata": {},
   "outputs": [
    {
     "name": "stdout",
     "output_type": "stream",
     "text": [
      "10634\n",
      "10634\n"
     ]
    }
   ],
   "source": [
    "print(len(all_texts))\n",
    "print(len(tokenized_bad))"
   ]
  },
  {
   "cell_type": "code",
   "execution_count": 37,
   "id": "68ba31e0",
   "metadata": {},
   "outputs": [],
   "source": [
    "# tokekinzed_bad"
   ]
  },
  {
   "cell_type": "code",
   "execution_count": 38,
   "id": "f379dc36",
   "metadata": {},
   "outputs": [
    {
     "data": {
      "text/html": [
       "<div>\n",
       "<style scoped>\n",
       "    .dataframe tbody tr th:only-of-type {\n",
       "        vertical-align: middle;\n",
       "    }\n",
       "\n",
       "    .dataframe tbody tr th {\n",
       "        vertical-align: top;\n",
       "    }\n",
       "\n",
       "    .dataframe thead th {\n",
       "        text-align: right;\n",
       "    }\n",
       "</style>\n",
       "<table border=\"1\" class=\"dataframe\">\n",
       "  <thead>\n",
       "    <tr style=\"text-align: right;\">\n",
       "      <th></th>\n",
       "      <th>b1</th>\n",
       "      <th>b2</th>\n",
       "      <th>b3</th>\n",
       "      <th>b4</th>\n",
       "      <th>b5</th>\n",
       "      <th>b6</th>\n",
       "      <th>b7</th>\n",
       "      <th>b8</th>\n",
       "      <th>b9</th>\n",
       "      <th>b10</th>\n",
       "      <th>...</th>\n",
       "      <th>b21</th>\n",
       "      <th>b22</th>\n",
       "      <th>b23</th>\n",
       "      <th>b24</th>\n",
       "      <th>b25</th>\n",
       "      <th>b26</th>\n",
       "      <th>b27</th>\n",
       "      <th>b28</th>\n",
       "      <th>b29</th>\n",
       "      <th>b30</th>\n",
       "    </tr>\n",
       "  </thead>\n",
       "  <tbody>\n",
       "    <tr>\n",
       "      <th>0</th>\n",
       "      <td>1</td>\n",
       "      <td>0</td>\n",
       "      <td>0</td>\n",
       "      <td>0</td>\n",
       "      <td>0</td>\n",
       "      <td>0</td>\n",
       "      <td>0</td>\n",
       "      <td>0</td>\n",
       "      <td>0</td>\n",
       "      <td>0</td>\n",
       "      <td>...</td>\n",
       "      <td>0</td>\n",
       "      <td>0</td>\n",
       "      <td>1</td>\n",
       "      <td>0</td>\n",
       "      <td>0</td>\n",
       "      <td>0</td>\n",
       "      <td>0</td>\n",
       "      <td>0</td>\n",
       "      <td>0</td>\n",
       "      <td>0</td>\n",
       "    </tr>\n",
       "    <tr>\n",
       "      <th>1</th>\n",
       "      <td>0</td>\n",
       "      <td>0</td>\n",
       "      <td>0</td>\n",
       "      <td>0</td>\n",
       "      <td>0</td>\n",
       "      <td>0</td>\n",
       "      <td>0</td>\n",
       "      <td>0</td>\n",
       "      <td>0</td>\n",
       "      <td>0</td>\n",
       "      <td>...</td>\n",
       "      <td>0</td>\n",
       "      <td>0</td>\n",
       "      <td>0</td>\n",
       "      <td>0</td>\n",
       "      <td>0</td>\n",
       "      <td>0</td>\n",
       "      <td>0</td>\n",
       "      <td>0</td>\n",
       "      <td>0</td>\n",
       "      <td>0</td>\n",
       "    </tr>\n",
       "    <tr>\n",
       "      <th>2</th>\n",
       "      <td>0</td>\n",
       "      <td>0</td>\n",
       "      <td>0</td>\n",
       "      <td>0</td>\n",
       "      <td>0</td>\n",
       "      <td>0</td>\n",
       "      <td>0</td>\n",
       "      <td>0</td>\n",
       "      <td>0</td>\n",
       "      <td>0</td>\n",
       "      <td>...</td>\n",
       "      <td>0</td>\n",
       "      <td>0</td>\n",
       "      <td>0</td>\n",
       "      <td>0</td>\n",
       "      <td>0</td>\n",
       "      <td>0</td>\n",
       "      <td>0</td>\n",
       "      <td>0</td>\n",
       "      <td>0</td>\n",
       "      <td>0</td>\n",
       "    </tr>\n",
       "    <tr>\n",
       "      <th>3</th>\n",
       "      <td>0</td>\n",
       "      <td>0</td>\n",
       "      <td>0</td>\n",
       "      <td>0</td>\n",
       "      <td>0</td>\n",
       "      <td>0</td>\n",
       "      <td>0</td>\n",
       "      <td>0</td>\n",
       "      <td>0</td>\n",
       "      <td>0</td>\n",
       "      <td>...</td>\n",
       "      <td>0</td>\n",
       "      <td>0</td>\n",
       "      <td>0</td>\n",
       "      <td>0</td>\n",
       "      <td>0</td>\n",
       "      <td>0</td>\n",
       "      <td>0</td>\n",
       "      <td>0</td>\n",
       "      <td>0</td>\n",
       "      <td>0</td>\n",
       "    </tr>\n",
       "    <tr>\n",
       "      <th>4</th>\n",
       "      <td>0</td>\n",
       "      <td>0</td>\n",
       "      <td>0</td>\n",
       "      <td>0</td>\n",
       "      <td>0</td>\n",
       "      <td>0</td>\n",
       "      <td>0</td>\n",
       "      <td>0</td>\n",
       "      <td>0</td>\n",
       "      <td>1</td>\n",
       "      <td>...</td>\n",
       "      <td>0</td>\n",
       "      <td>0</td>\n",
       "      <td>0</td>\n",
       "      <td>0</td>\n",
       "      <td>0</td>\n",
       "      <td>0</td>\n",
       "      <td>0</td>\n",
       "      <td>0</td>\n",
       "      <td>0</td>\n",
       "      <td>0</td>\n",
       "    </tr>\n",
       "  </tbody>\n",
       "</table>\n",
       "<p>5 rows × 30 columns</p>\n",
       "</div>"
      ],
      "text/plain": [
       "   b1  b2  b3  b4  b5  b6  b7  b8  b9  b10  ...  b21  b22  b23  b24  b25  b26  \\\n",
       "0   1   0   0   0   0   0   0   0   0    0  ...    0    0    1    0    0    0   \n",
       "1   0   0   0   0   0   0   0   0   0    0  ...    0    0    0    0    0    0   \n",
       "2   0   0   0   0   0   0   0   0   0    0  ...    0    0    0    0    0    0   \n",
       "3   0   0   0   0   0   0   0   0   0    0  ...    0    0    0    0    0    0   \n",
       "4   0   0   0   0   0   0   0   0   0    1  ...    0    0    0    0    0    0   \n",
       "\n",
       "   b27  b28  b29  b30  \n",
       "0    0    0    0    0  \n",
       "1    0    0    0    0  \n",
       "2    0    0    0    0  \n",
       "3    0    0    0    0  \n",
       "4    0    0    0    0  \n",
       "\n",
       "[5 rows x 30 columns]"
      ]
     },
     "execution_count": 38,
     "metadata": {},
     "output_type": "execute_result"
    }
   ],
   "source": [
    "data = []\n",
    "for tokens in tokenized_bad:\n",
    "    row = [1 if i in tokens else 0 for i in range(1, tam_vocab+1)]\n",
    "    data.append(row)\n",
    "column_names = [f\"b{i}\" for i in range(1, tam_vocab+1)]\n",
    "\n",
    "df_bad = pd.DataFrame(data, columns=column_names)\n",
    "df_bad.head()"
   ]
  },
  {
   "cell_type": "markdown",
   "id": "419d39d3",
   "metadata": {},
   "source": [
    "## Good products"
   ]
  },
  {
   "cell_type": "code",
   "execution_count": 39,
   "id": "c3a35bd7",
   "metadata": {},
   "outputs": [],
   "source": [
    "sentences_good_product = df[df.good_product==1]['text'].to_list()\n",
    "\n",
    "tam_vocab = 30\n",
    "\n",
    "tokenizer_good = Tokenizer(num_words=tam_vocab)\n",
    "tokenizer_good.fit_on_texts(sentences_good_product)"
   ]
  },
  {
   "cell_type": "code",
   "execution_count": 40,
   "id": "89e9d83d",
   "metadata": {},
   "outputs": [],
   "source": [
    "# tokenizer_good.word_index"
   ]
  },
  {
   "cell_type": "code",
   "execution_count": 41,
   "id": "686e142b",
   "metadata": {},
   "outputs": [],
   "source": [
    "all_texts = df['text'].to_list()\n",
    "\n",
    "tokenized_good = tokenizer_good.texts_to_sequences(all_texts)"
   ]
  },
  {
   "cell_type": "code",
   "execution_count": 42,
   "id": "46c5c73a",
   "metadata": {},
   "outputs": [],
   "source": [
    "# tokenized_good"
   ]
  },
  {
   "cell_type": "code",
   "execution_count": 43,
   "id": "35373ac2",
   "metadata": {},
   "outputs": [
    {
     "data": {
      "text/html": [
       "<div>\n",
       "<style scoped>\n",
       "    .dataframe tbody tr th:only-of-type {\n",
       "        vertical-align: middle;\n",
       "    }\n",
       "\n",
       "    .dataframe tbody tr th {\n",
       "        vertical-align: top;\n",
       "    }\n",
       "\n",
       "    .dataframe thead th {\n",
       "        text-align: right;\n",
       "    }\n",
       "</style>\n",
       "<table border=\"1\" class=\"dataframe\">\n",
       "  <thead>\n",
       "    <tr style=\"text-align: right;\">\n",
       "      <th></th>\n",
       "      <th>g1</th>\n",
       "      <th>g2</th>\n",
       "      <th>g3</th>\n",
       "      <th>g4</th>\n",
       "      <th>g5</th>\n",
       "      <th>g6</th>\n",
       "      <th>g7</th>\n",
       "      <th>g8</th>\n",
       "      <th>g9</th>\n",
       "      <th>g10</th>\n",
       "      <th>...</th>\n",
       "      <th>g21</th>\n",
       "      <th>g22</th>\n",
       "      <th>g23</th>\n",
       "      <th>g24</th>\n",
       "      <th>g25</th>\n",
       "      <th>g26</th>\n",
       "      <th>g27</th>\n",
       "      <th>g28</th>\n",
       "      <th>g29</th>\n",
       "      <th>g30</th>\n",
       "    </tr>\n",
       "  </thead>\n",
       "  <tbody>\n",
       "    <tr>\n",
       "      <th>0</th>\n",
       "      <td>0</td>\n",
       "      <td>0</td>\n",
       "      <td>0</td>\n",
       "      <td>1</td>\n",
       "      <td>0</td>\n",
       "      <td>0</td>\n",
       "      <td>0</td>\n",
       "      <td>0</td>\n",
       "      <td>0</td>\n",
       "      <td>0</td>\n",
       "      <td>...</td>\n",
       "      <td>0</td>\n",
       "      <td>0</td>\n",
       "      <td>0</td>\n",
       "      <td>0</td>\n",
       "      <td>0</td>\n",
       "      <td>0</td>\n",
       "      <td>0</td>\n",
       "      <td>0</td>\n",
       "      <td>0</td>\n",
       "      <td>0</td>\n",
       "    </tr>\n",
       "    <tr>\n",
       "      <th>1</th>\n",
       "      <td>0</td>\n",
       "      <td>0</td>\n",
       "      <td>0</td>\n",
       "      <td>0</td>\n",
       "      <td>0</td>\n",
       "      <td>0</td>\n",
       "      <td>0</td>\n",
       "      <td>0</td>\n",
       "      <td>0</td>\n",
       "      <td>0</td>\n",
       "      <td>...</td>\n",
       "      <td>0</td>\n",
       "      <td>0</td>\n",
       "      <td>0</td>\n",
       "      <td>0</td>\n",
       "      <td>0</td>\n",
       "      <td>0</td>\n",
       "      <td>0</td>\n",
       "      <td>0</td>\n",
       "      <td>0</td>\n",
       "      <td>0</td>\n",
       "    </tr>\n",
       "    <tr>\n",
       "      <th>2</th>\n",
       "      <td>0</td>\n",
       "      <td>0</td>\n",
       "      <td>0</td>\n",
       "      <td>0</td>\n",
       "      <td>0</td>\n",
       "      <td>0</td>\n",
       "      <td>0</td>\n",
       "      <td>0</td>\n",
       "      <td>0</td>\n",
       "      <td>0</td>\n",
       "      <td>...</td>\n",
       "      <td>0</td>\n",
       "      <td>0</td>\n",
       "      <td>0</td>\n",
       "      <td>0</td>\n",
       "      <td>0</td>\n",
       "      <td>0</td>\n",
       "      <td>0</td>\n",
       "      <td>0</td>\n",
       "      <td>0</td>\n",
       "      <td>0</td>\n",
       "    </tr>\n",
       "    <tr>\n",
       "      <th>3</th>\n",
       "      <td>0</td>\n",
       "      <td>0</td>\n",
       "      <td>0</td>\n",
       "      <td>0</td>\n",
       "      <td>0</td>\n",
       "      <td>0</td>\n",
       "      <td>0</td>\n",
       "      <td>0</td>\n",
       "      <td>0</td>\n",
       "      <td>0</td>\n",
       "      <td>...</td>\n",
       "      <td>0</td>\n",
       "      <td>0</td>\n",
       "      <td>0</td>\n",
       "      <td>0</td>\n",
       "      <td>0</td>\n",
       "      <td>0</td>\n",
       "      <td>0</td>\n",
       "      <td>0</td>\n",
       "      <td>0</td>\n",
       "      <td>0</td>\n",
       "    </tr>\n",
       "    <tr>\n",
       "      <th>4</th>\n",
       "      <td>0</td>\n",
       "      <td>0</td>\n",
       "      <td>0</td>\n",
       "      <td>0</td>\n",
       "      <td>0</td>\n",
       "      <td>0</td>\n",
       "      <td>0</td>\n",
       "      <td>0</td>\n",
       "      <td>0</td>\n",
       "      <td>0</td>\n",
       "      <td>...</td>\n",
       "      <td>0</td>\n",
       "      <td>0</td>\n",
       "      <td>0</td>\n",
       "      <td>0</td>\n",
       "      <td>0</td>\n",
       "      <td>0</td>\n",
       "      <td>0</td>\n",
       "      <td>0</td>\n",
       "      <td>0</td>\n",
       "      <td>0</td>\n",
       "    </tr>\n",
       "  </tbody>\n",
       "</table>\n",
       "<p>5 rows × 30 columns</p>\n",
       "</div>"
      ],
      "text/plain": [
       "   g1  g2  g3  g4  g5  g6  g7  g8  g9  g10  ...  g21  g22  g23  g24  g25  g26  \\\n",
       "0   0   0   0   1   0   0   0   0   0    0  ...    0    0    0    0    0    0   \n",
       "1   0   0   0   0   0   0   0   0   0    0  ...    0    0    0    0    0    0   \n",
       "2   0   0   0   0   0   0   0   0   0    0  ...    0    0    0    0    0    0   \n",
       "3   0   0   0   0   0   0   0   0   0    0  ...    0    0    0    0    0    0   \n",
       "4   0   0   0   0   0   0   0   0   0    0  ...    0    0    0    0    0    0   \n",
       "\n",
       "   g27  g28  g29  g30  \n",
       "0    0    0    0    0  \n",
       "1    0    0    0    0  \n",
       "2    0    0    0    0  \n",
       "3    0    0    0    0  \n",
       "4    0    0    0    0  \n",
       "\n",
       "[5 rows x 30 columns]"
      ]
     },
     "execution_count": 43,
     "metadata": {},
     "output_type": "execute_result"
    }
   ],
   "source": [
    "data = []\n",
    "for tokens in tokenized_good:\n",
    "    row = [1 if i in tokens else 0 for i in range(1, tam_vocab+1)]\n",
    "    data.append(row)\n",
    "column_names = [f\"g{i}\" for i in range(1, tam_vocab+1)]\n",
    "\n",
    "df_good = pd.DataFrame(data, columns=column_names)\n",
    "df_good.head()"
   ]
  },
  {
   "cell_type": "code",
   "execution_count": 44,
   "id": "00428567",
   "metadata": {},
   "outputs": [
    {
     "name": "stdout",
     "output_type": "stream",
     "text": [
      "10634\n",
      "10634\n",
      "10634\n"
     ]
    }
   ],
   "source": [
    "print(len(df_good))\n",
    "print(len(df_bad))\n",
    "df_final = pd.merge(df_bad, df_good, left_index=True, right_index=True, how='inner')\n",
    "print(len(df_final))"
   ]
  },
  {
   "cell_type": "code",
   "execution_count": 45,
   "id": "3133b2c7",
   "metadata": {},
   "outputs": [
    {
     "data": {
      "text/plain": [
       "0        0\n",
       "1        0\n",
       "2        0\n",
       "3        0\n",
       "4        0\n",
       "        ..\n",
       "26957    1\n",
       "26958    1\n",
       "26959    1\n",
       "26960    1\n",
       "26961    1\n",
       "Name: good_product, Length: 10634, dtype: int64"
      ]
     },
     "execution_count": 45,
     "metadata": {},
     "output_type": "execute_result"
    }
   ],
   "source": [
    "df['good_product']"
   ]
  },
  {
   "cell_type": "code",
   "execution_count": 46,
   "id": "40f29bc0",
   "metadata": {},
   "outputs": [
    {
     "data": {
      "text/html": [
       "<div>\n",
       "<style scoped>\n",
       "    .dataframe tbody tr th:only-of-type {\n",
       "        vertical-align: middle;\n",
       "    }\n",
       "\n",
       "    .dataframe tbody tr th {\n",
       "        vertical-align: top;\n",
       "    }\n",
       "\n",
       "    .dataframe thead th {\n",
       "        text-align: right;\n",
       "    }\n",
       "</style>\n",
       "<table border=\"1\" class=\"dataframe\">\n",
       "  <thead>\n",
       "    <tr style=\"text-align: right;\">\n",
       "      <th></th>\n",
       "      <th>b1</th>\n",
       "      <th>b2</th>\n",
       "      <th>b3</th>\n",
       "      <th>b4</th>\n",
       "      <th>b5</th>\n",
       "      <th>b6</th>\n",
       "      <th>b7</th>\n",
       "      <th>b8</th>\n",
       "      <th>b9</th>\n",
       "      <th>b10</th>\n",
       "      <th>...</th>\n",
       "      <th>g22</th>\n",
       "      <th>g23</th>\n",
       "      <th>g24</th>\n",
       "      <th>g25</th>\n",
       "      <th>g26</th>\n",
       "      <th>g27</th>\n",
       "      <th>g28</th>\n",
       "      <th>g29</th>\n",
       "      <th>g30</th>\n",
       "      <th>y</th>\n",
       "    </tr>\n",
       "  </thead>\n",
       "  <tbody>\n",
       "    <tr>\n",
       "      <th>10629</th>\n",
       "      <td>0</td>\n",
       "      <td>0</td>\n",
       "      <td>0</td>\n",
       "      <td>0</td>\n",
       "      <td>0</td>\n",
       "      <td>0</td>\n",
       "      <td>0</td>\n",
       "      <td>0</td>\n",
       "      <td>0</td>\n",
       "      <td>0</td>\n",
       "      <td>...</td>\n",
       "      <td>0</td>\n",
       "      <td>0</td>\n",
       "      <td>0</td>\n",
       "      <td>0</td>\n",
       "      <td>0</td>\n",
       "      <td>0</td>\n",
       "      <td>0</td>\n",
       "      <td>0</td>\n",
       "      <td>0</td>\n",
       "      <td>1</td>\n",
       "    </tr>\n",
       "    <tr>\n",
       "      <th>10630</th>\n",
       "      <td>0</td>\n",
       "      <td>0</td>\n",
       "      <td>0</td>\n",
       "      <td>0</td>\n",
       "      <td>0</td>\n",
       "      <td>0</td>\n",
       "      <td>0</td>\n",
       "      <td>0</td>\n",
       "      <td>0</td>\n",
       "      <td>1</td>\n",
       "      <td>...</td>\n",
       "      <td>0</td>\n",
       "      <td>0</td>\n",
       "      <td>0</td>\n",
       "      <td>0</td>\n",
       "      <td>0</td>\n",
       "      <td>0</td>\n",
       "      <td>0</td>\n",
       "      <td>0</td>\n",
       "      <td>0</td>\n",
       "      <td>1</td>\n",
       "    </tr>\n",
       "    <tr>\n",
       "      <th>10631</th>\n",
       "      <td>0</td>\n",
       "      <td>0</td>\n",
       "      <td>0</td>\n",
       "      <td>0</td>\n",
       "      <td>0</td>\n",
       "      <td>0</td>\n",
       "      <td>0</td>\n",
       "      <td>0</td>\n",
       "      <td>0</td>\n",
       "      <td>0</td>\n",
       "      <td>...</td>\n",
       "      <td>0</td>\n",
       "      <td>0</td>\n",
       "      <td>0</td>\n",
       "      <td>0</td>\n",
       "      <td>0</td>\n",
       "      <td>0</td>\n",
       "      <td>0</td>\n",
       "      <td>0</td>\n",
       "      <td>0</td>\n",
       "      <td>1</td>\n",
       "    </tr>\n",
       "    <tr>\n",
       "      <th>10632</th>\n",
       "      <td>0</td>\n",
       "      <td>0</td>\n",
       "      <td>1</td>\n",
       "      <td>0</td>\n",
       "      <td>0</td>\n",
       "      <td>0</td>\n",
       "      <td>0</td>\n",
       "      <td>0</td>\n",
       "      <td>0</td>\n",
       "      <td>0</td>\n",
       "      <td>...</td>\n",
       "      <td>0</td>\n",
       "      <td>0</td>\n",
       "      <td>0</td>\n",
       "      <td>0</td>\n",
       "      <td>0</td>\n",
       "      <td>0</td>\n",
       "      <td>0</td>\n",
       "      <td>0</td>\n",
       "      <td>0</td>\n",
       "      <td>1</td>\n",
       "    </tr>\n",
       "    <tr>\n",
       "      <th>10633</th>\n",
       "      <td>0</td>\n",
       "      <td>0</td>\n",
       "      <td>0</td>\n",
       "      <td>0</td>\n",
       "      <td>0</td>\n",
       "      <td>0</td>\n",
       "      <td>0</td>\n",
       "      <td>0</td>\n",
       "      <td>0</td>\n",
       "      <td>0</td>\n",
       "      <td>...</td>\n",
       "      <td>0</td>\n",
       "      <td>0</td>\n",
       "      <td>0</td>\n",
       "      <td>0</td>\n",
       "      <td>0</td>\n",
       "      <td>0</td>\n",
       "      <td>0</td>\n",
       "      <td>0</td>\n",
       "      <td>0</td>\n",
       "      <td>1</td>\n",
       "    </tr>\n",
       "  </tbody>\n",
       "</table>\n",
       "<p>5 rows × 61 columns</p>\n",
       "</div>"
      ],
      "text/plain": [
       "       b1  b2  b3  b4  b5  b6  b7  b8  b9  b10  ...  g22  g23  g24  g25  g26  \\\n",
       "10629   0   0   0   0   0   0   0   0   0    0  ...    0    0    0    0    0   \n",
       "10630   0   0   0   0   0   0   0   0   0    1  ...    0    0    0    0    0   \n",
       "10631   0   0   0   0   0   0   0   0   0    0  ...    0    0    0    0    0   \n",
       "10632   0   0   1   0   0   0   0   0   0    0  ...    0    0    0    0    0   \n",
       "10633   0   0   0   0   0   0   0   0   0    0  ...    0    0    0    0    0   \n",
       "\n",
       "       g27  g28  g29  g30  y  \n",
       "10629    0    0    0    0  1  \n",
       "10630    0    0    0    0  1  \n",
       "10631    0    0    0    0  1  \n",
       "10632    0    0    0    0  1  \n",
       "10633    0    0    0    0  1  \n",
       "\n",
       "[5 rows x 61 columns]"
      ]
     },
     "execution_count": 46,
     "metadata": {},
     "output_type": "execute_result"
    }
   ],
   "source": [
    "df_final['y'] = df['good_product'].values\n",
    "df_final.tail()"
   ]
  },
  {
   "cell_type": "code",
   "execution_count": 47,
   "id": "43b9ff82",
   "metadata": {
    "scrolled": true
   },
   "outputs": [
    {
     "data": {
      "text/plain": [
       "0.8317660334775249"
      ]
     },
     "execution_count": 47,
     "metadata": {},
     "output_type": "execute_result"
    }
   ],
   "source": [
    "from sklearn.tree import DecisionTreeClassifier\n",
    "\n",
    "X = df_final.drop(columns='y')\n",
    "y = df_final.y\n",
    "\n",
    "model = DecisionTreeClassifier(random_state=99)\n",
    "model.fit(X, y)\n",
    "model.score(X, y)"
   ]
  },
  {
   "cell_type": "markdown",
   "id": "a18f0e10",
   "metadata": {},
   "source": [
    "# N-Grams"
   ]
  },
  {
   "cell_type": "markdown",
   "id": "b0a3d604",
   "metadata": {},
   "source": [
    "Son combinaciones contiguas de n palabras de una secuencia de text (cafe caliente)"
   ]
  },
  {
   "cell_type": "code",
   "execution_count": 48,
   "id": "468eeb55",
   "metadata": {},
   "outputs": [
    {
     "data": {
      "text/plain": [
       "[('esto', 'es', 'un'),\n",
       " ('es', 'un', 'texto'),\n",
       " ('un', 'texto', 'de'),\n",
       " ('texto', 'de', 'ejemplo'),\n",
       " ('de', 'ejemplo', 'en'),\n",
       " ('ejemplo', 'en', 'natural'),\n",
       " ('en', 'natural', 'language'),\n",
       " ('natural', 'language', 'processing')]"
      ]
     },
     "execution_count": 48,
     "metadata": {},
     "output_type": "execute_result"
    }
   ],
   "source": [
    "from nltk.util import ngrams\n",
    "\n",
    "def generate_ngrams(text, n):\n",
    "    tokens = text.split()\n",
    "    n_grams = ngrams(tokens, n)\n",
    "    return list(n_grams)\n",
    "\n",
    "txt = \"esto es un texto de ejemplo en natural language processing\"\n",
    "generate_ngrams(txt, n=3)"
   ]
  },
  {
   "cell_type": "markdown",
   "id": "eed91c11",
   "metadata": {},
   "source": [
    "# TF-IDF Algorithm"
   ]
  },
  {
   "cell_type": "code",
   "execution_count": 49,
   "id": "8b0e2c91",
   "metadata": {},
   "outputs": [
    {
     "data": {
      "text/html": [
       "<div>\n",
       "<style scoped>\n",
       "    .dataframe tbody tr th:only-of-type {\n",
       "        vertical-align: middle;\n",
       "    }\n",
       "\n",
       "    .dataframe tbody tr th {\n",
       "        vertical-align: top;\n",
       "    }\n",
       "\n",
       "    .dataframe thead th {\n",
       "        text-align: right;\n",
       "    }\n",
       "</style>\n",
       "<table border=\"1\" class=\"dataframe\">\n",
       "  <thead>\n",
       "    <tr style=\"text-align: right;\">\n",
       "      <th></th>\n",
       "      <th>stars</th>\n",
       "      <th>review_body</th>\n",
       "      <th>review_title</th>\n",
       "      <th>product_category</th>\n",
       "    </tr>\n",
       "  </thead>\n",
       "  <tbody>\n",
       "    <tr>\n",
       "      <th>0</th>\n",
       "      <td>1</td>\n",
       "      <td>Jamás me llegó y el vendedor nunca contacto co...</td>\n",
       "      <td>Jamás me llegó</td>\n",
       "      <td>home</td>\n",
       "    </tr>\n",
       "    <tr>\n",
       "      <th>1</th>\n",
       "      <td>1</td>\n",
       "      <td>Pone que son  piezas y la realidad es que es d...</td>\n",
       "      <td>Mala descripción</td>\n",
       "      <td>home</td>\n",
       "    </tr>\n",
       "    <tr>\n",
       "      <th>2</th>\n",
       "      <td>1</td>\n",
       "      <td>Saltan los plomos al tercer día de uso. A devo...</td>\n",
       "      <td>Saltan los plomos al utilizarla</td>\n",
       "      <td>home</td>\n",
       "    </tr>\n",
       "    <tr>\n",
       "      <th>3</th>\n",
       "      <td>1</td>\n",
       "      <td>No me ha gustado de hecho la devolví . Súper p...</td>\n",
       "      <td>No merece la pena</td>\n",
       "      <td>home</td>\n",
       "    </tr>\n",
       "    <tr>\n",
       "      <th>4</th>\n",
       "      <td>1</td>\n",
       "      <td>Por más que busque, no le encuentro el agujero...</td>\n",
       "      <td>No tiene agujero para rellenar la piñata</td>\n",
       "      <td>home</td>\n",
       "    </tr>\n",
       "  </tbody>\n",
       "</table>\n",
       "</div>"
      ],
      "text/plain": [
       "   stars                                        review_body  \\\n",
       "0      1  Jamás me llegó y el vendedor nunca contacto co...   \n",
       "1      1  Pone que son  piezas y la realidad es que es d...   \n",
       "2      1  Saltan los plomos al tercer día de uso. A devo...   \n",
       "3      1  No me ha gustado de hecho la devolví . Súper p...   \n",
       "4      1  Por más que busque, no le encuentro el agujero...   \n",
       "\n",
       "                               review_title product_category  \n",
       "0                            Jamás me llegó             home  \n",
       "1                          Mala descripción             home  \n",
       "2           Saltan los plomos al utilizarla             home  \n",
       "3                         No merece la pena             home  \n",
       "4  No tiene agujero para rellenar la piñata             home  "
      ]
     },
     "execution_count": 49,
     "metadata": {},
     "output_type": "execute_result"
    }
   ],
   "source": [
    "import pandas as pd\n",
    "\n",
    "df = pd.read_csv(\"https://raw.githubusercontent.com/eduardofc/data/main/amazon_home.csv\")\n",
    "df['review_body'] = df['review_body'].str.replace('[^a-zA-ZñÑáéíóúü .,]', '', regex=True)\n",
    "df.head()"
   ]
  },
  {
   "cell_type": "markdown",
   "id": "ecb3ac76",
   "metadata": {},
   "source": [
    "Scikit learn tiene el TFIDF"
   ]
  },
  {
   "cell_type": "code",
   "execution_count": 50,
   "id": "c528340b",
   "metadata": {},
   "outputs": [],
   "source": [
    "from sklearn.feature_extraction.text import TfidfVectorizer\n",
    "\n",
    "vectorizer = TfidfVectorizer(stop_words=list(stopwords_list))\n",
    "\n",
    "reviews = df.review_body.values\n",
    "tfidf_matrix = vectorizer.fit_transform(reviews).toarray()\n",
    "words = vectorizer.get_feature_names_out()"
   ]
  },
  {
   "cell_type": "code",
   "execution_count": 51,
   "id": "8535be66",
   "metadata": {},
   "outputs": [
    {
     "name": "stdout",
     "output_type": "stream",
     "text": [
      "['aa' 'aaa' 'abajo' ... 'útil' 'útiles' 'útlimo']\n",
      "21344\n",
      "(26962, 21344)\n"
     ]
    },
    {
     "data": {
      "text/plain": [
       "array([[0., 0., 0., ..., 0., 0., 0.],\n",
       "       [0., 0., 0., ..., 0., 0., 0.],\n",
       "       [0., 0., 0., ..., 0., 0., 0.],\n",
       "       ...,\n",
       "       [0., 0., 0., ..., 0., 0., 0.],\n",
       "       [0., 0., 0., ..., 0., 0., 0.],\n",
       "       [0., 0., 0., ..., 0., 0., 0.]])"
      ]
     },
     "execution_count": 51,
     "metadata": {},
     "output_type": "execute_result"
    }
   ],
   "source": [
    "print(words)\n",
    "print(len(words))\n",
    "print(tfidf_matrix.shape)\n",
    "tfidf_matrix"
   ]
  },
  {
   "cell_type": "code",
   "execution_count": 52,
   "id": "c0a4e76d",
   "metadata": {},
   "outputs": [
    {
     "data": {
      "text/html": [
       "<div>\n",
       "<style scoped>\n",
       "    .dataframe tbody tr th:only-of-type {\n",
       "        vertical-align: middle;\n",
       "    }\n",
       "\n",
       "    .dataframe tbody tr th {\n",
       "        vertical-align: top;\n",
       "    }\n",
       "\n",
       "    .dataframe thead th {\n",
       "        text-align: right;\n",
       "    }\n",
       "</style>\n",
       "<table border=\"1\" class=\"dataframe\">\n",
       "  <thead>\n",
       "    <tr style=\"text-align: right;\">\n",
       "      <th></th>\n",
       "      <th>aa</th>\n",
       "      <th>aaa</th>\n",
       "      <th>abajo</th>\n",
       "      <th>abalorios</th>\n",
       "      <th>abandonan</th>\n",
       "      <th>abandonando</th>\n",
       "      <th>abanico</th>\n",
       "      <th>abanicos</th>\n",
       "      <th>abarata</th>\n",
       "      <th>abaratar</th>\n",
       "      <th>...</th>\n",
       "      <th>óxido</th>\n",
       "      <th>últimamente</th>\n",
       "      <th>única</th>\n",
       "      <th>únicamente</th>\n",
       "      <th>únicas</th>\n",
       "      <th>único</th>\n",
       "      <th>únicos</th>\n",
       "      <th>útil</th>\n",
       "      <th>útiles</th>\n",
       "      <th>útlimo</th>\n",
       "    </tr>\n",
       "  </thead>\n",
       "  <tbody>\n",
       "    <tr>\n",
       "      <th>0</th>\n",
       "      <td>0.0</td>\n",
       "      <td>0.0</td>\n",
       "      <td>0.0</td>\n",
       "      <td>0.0</td>\n",
       "      <td>0.0</td>\n",
       "      <td>0.0</td>\n",
       "      <td>0.0</td>\n",
       "      <td>0.0</td>\n",
       "      <td>0.0</td>\n",
       "      <td>0.0</td>\n",
       "      <td>...</td>\n",
       "      <td>0.0</td>\n",
       "      <td>0.0</td>\n",
       "      <td>0.0</td>\n",
       "      <td>0.0</td>\n",
       "      <td>0.0</td>\n",
       "      <td>0.0</td>\n",
       "      <td>0.0</td>\n",
       "      <td>0.0</td>\n",
       "      <td>0.0</td>\n",
       "      <td>0.0</td>\n",
       "    </tr>\n",
       "    <tr>\n",
       "      <th>1</th>\n",
       "      <td>0.0</td>\n",
       "      <td>0.0</td>\n",
       "      <td>0.0</td>\n",
       "      <td>0.0</td>\n",
       "      <td>0.0</td>\n",
       "      <td>0.0</td>\n",
       "      <td>0.0</td>\n",
       "      <td>0.0</td>\n",
       "      <td>0.0</td>\n",
       "      <td>0.0</td>\n",
       "      <td>...</td>\n",
       "      <td>0.0</td>\n",
       "      <td>0.0</td>\n",
       "      <td>0.0</td>\n",
       "      <td>0.0</td>\n",
       "      <td>0.0</td>\n",
       "      <td>0.0</td>\n",
       "      <td>0.0</td>\n",
       "      <td>0.0</td>\n",
       "      <td>0.0</td>\n",
       "      <td>0.0</td>\n",
       "    </tr>\n",
       "    <tr>\n",
       "      <th>2</th>\n",
       "      <td>0.0</td>\n",
       "      <td>0.0</td>\n",
       "      <td>0.0</td>\n",
       "      <td>0.0</td>\n",
       "      <td>0.0</td>\n",
       "      <td>0.0</td>\n",
       "      <td>0.0</td>\n",
       "      <td>0.0</td>\n",
       "      <td>0.0</td>\n",
       "      <td>0.0</td>\n",
       "      <td>...</td>\n",
       "      <td>0.0</td>\n",
       "      <td>0.0</td>\n",
       "      <td>0.0</td>\n",
       "      <td>0.0</td>\n",
       "      <td>0.0</td>\n",
       "      <td>0.0</td>\n",
       "      <td>0.0</td>\n",
       "      <td>0.0</td>\n",
       "      <td>0.0</td>\n",
       "      <td>0.0</td>\n",
       "    </tr>\n",
       "    <tr>\n",
       "      <th>3</th>\n",
       "      <td>0.0</td>\n",
       "      <td>0.0</td>\n",
       "      <td>0.0</td>\n",
       "      <td>0.0</td>\n",
       "      <td>0.0</td>\n",
       "      <td>0.0</td>\n",
       "      <td>0.0</td>\n",
       "      <td>0.0</td>\n",
       "      <td>0.0</td>\n",
       "      <td>0.0</td>\n",
       "      <td>...</td>\n",
       "      <td>0.0</td>\n",
       "      <td>0.0</td>\n",
       "      <td>0.0</td>\n",
       "      <td>0.0</td>\n",
       "      <td>0.0</td>\n",
       "      <td>0.0</td>\n",
       "      <td>0.0</td>\n",
       "      <td>0.0</td>\n",
       "      <td>0.0</td>\n",
       "      <td>0.0</td>\n",
       "    </tr>\n",
       "    <tr>\n",
       "      <th>4</th>\n",
       "      <td>0.0</td>\n",
       "      <td>0.0</td>\n",
       "      <td>0.0</td>\n",
       "      <td>0.0</td>\n",
       "      <td>0.0</td>\n",
       "      <td>0.0</td>\n",
       "      <td>0.0</td>\n",
       "      <td>0.0</td>\n",
       "      <td>0.0</td>\n",
       "      <td>0.0</td>\n",
       "      <td>...</td>\n",
       "      <td>0.0</td>\n",
       "      <td>0.0</td>\n",
       "      <td>0.0</td>\n",
       "      <td>0.0</td>\n",
       "      <td>0.0</td>\n",
       "      <td>0.0</td>\n",
       "      <td>0.0</td>\n",
       "      <td>0.0</td>\n",
       "      <td>0.0</td>\n",
       "      <td>0.0</td>\n",
       "    </tr>\n",
       "  </tbody>\n",
       "</table>\n",
       "<p>5 rows × 21344 columns</p>\n",
       "</div>"
      ],
      "text/plain": [
       "    aa  aaa  abajo  abalorios  abandonan  abandonando  abanico  abanicos  \\\n",
       "0  0.0  0.0    0.0        0.0        0.0          0.0      0.0       0.0   \n",
       "1  0.0  0.0    0.0        0.0        0.0          0.0      0.0       0.0   \n",
       "2  0.0  0.0    0.0        0.0        0.0          0.0      0.0       0.0   \n",
       "3  0.0  0.0    0.0        0.0        0.0          0.0      0.0       0.0   \n",
       "4  0.0  0.0    0.0        0.0        0.0          0.0      0.0       0.0   \n",
       "\n",
       "   abarata  abaratar  ...  óxido  últimamente  única  únicamente  únicas  \\\n",
       "0      0.0       0.0  ...    0.0          0.0    0.0         0.0     0.0   \n",
       "1      0.0       0.0  ...    0.0          0.0    0.0         0.0     0.0   \n",
       "2      0.0       0.0  ...    0.0          0.0    0.0         0.0     0.0   \n",
       "3      0.0       0.0  ...    0.0          0.0    0.0         0.0     0.0   \n",
       "4      0.0       0.0  ...    0.0          0.0    0.0         0.0     0.0   \n",
       "\n",
       "   único  únicos  útil  útiles  útlimo  \n",
       "0    0.0     0.0   0.0     0.0     0.0  \n",
       "1    0.0     0.0   0.0     0.0     0.0  \n",
       "2    0.0     0.0   0.0     0.0     0.0  \n",
       "3    0.0     0.0   0.0     0.0     0.0  \n",
       "4    0.0     0.0   0.0     0.0     0.0  \n",
       "\n",
       "[5 rows x 21344 columns]"
      ]
     },
     "execution_count": 52,
     "metadata": {},
     "output_type": "execute_result"
    }
   ],
   "source": [
    "pd.set_option('display.max_colwidth', 100)\n",
    "\n",
    "df_tfidf = pd.DataFrame(tfidf_matrix, columns=words)\n",
    "df_tfidf.head()"
   ]
  },
  {
   "cell_type": "code",
   "execution_count": 53,
   "id": "55ab1d3a",
   "metadata": {},
   "outputs": [
    {
     "data": {
      "text/plain": [
       "aa            3.929498\n",
       "aaa           2.329155\n",
       "abajo        37.411509\n",
       "abalorios     1.333735\n",
       "abandonan     0.455185\n",
       "               ...    \n",
       "único        93.971243\n",
       "únicos        1.085936\n",
       "útil         87.823833\n",
       "útiles       22.713322\n",
       "útlimo        0.164957\n",
       "Length: 21344, dtype: float64"
      ]
     },
     "execution_count": 53,
     "metadata": {},
     "output_type": "execute_result"
    }
   ],
   "source": [
    "df_tfidf.sum()"
   ]
  },
  {
   "cell_type": "code",
   "execution_count": 54,
   "id": "8f2ee711",
   "metadata": {},
   "outputs": [
    {
     "data": {
      "text/html": [
       "<div>\n",
       "<style scoped>\n",
       "    .dataframe tbody tr th:only-of-type {\n",
       "        vertical-align: middle;\n",
       "    }\n",
       "\n",
       "    .dataframe tbody tr th {\n",
       "        vertical-align: top;\n",
       "    }\n",
       "\n",
       "    .dataframe thead th {\n",
       "        text-align: right;\n",
       "    }\n",
       "</style>\n",
       "<table border=\"1\" class=\"dataframe\">\n",
       "  <thead>\n",
       "    <tr style=\"text-align: right;\">\n",
       "      <th></th>\n",
       "      <th>stars</th>\n",
       "      <th>review_body</th>\n",
       "      <th>review_title</th>\n",
       "      <th>product_category</th>\n",
       "    </tr>\n",
       "  </thead>\n",
       "  <tbody>\n",
       "    <tr>\n",
       "      <th>0</th>\n",
       "      <td>1</td>\n",
       "      <td>Jamás me llegó y el vendedor nunca contacto conmigo a pesar de intentarlo  veces</td>\n",
       "      <td>Jamás me llegó</td>\n",
       "      <td>home</td>\n",
       "    </tr>\n",
       "    <tr>\n",
       "      <th>1</th>\n",
       "      <td>1</td>\n",
       "      <td>Pone que son  piezas y la realidad es que es de  piezas</td>\n",
       "      <td>Mala descripción</td>\n",
       "      <td>home</td>\n",
       "    </tr>\n",
       "    <tr>\n",
       "      <th>2</th>\n",
       "      <td>1</td>\n",
       "      <td>Saltan los plomos al tercer día de uso. A devolver</td>\n",
       "      <td>Saltan los plomos al utilizarla</td>\n",
       "      <td>home</td>\n",
       "    </tr>\n",
       "    <tr>\n",
       "      <th>3</th>\n",
       "      <td>1</td>\n",
       "      <td>No me ha gustado de hecho la devolví . Súper pesada para manejar</td>\n",
       "      <td>No merece la pena</td>\n",
       "      <td>home</td>\n",
       "    </tr>\n",
       "    <tr>\n",
       "      <th>4</th>\n",
       "      <td>1</td>\n",
       "      <td>Por más que busque, no le encuentro el agujero para meter las chuches. En las instrucciones dice...</td>\n",
       "      <td>No tiene agujero para rellenar la piñata</td>\n",
       "      <td>home</td>\n",
       "    </tr>\n",
       "  </tbody>\n",
       "</table>\n",
       "</div>"
      ],
      "text/plain": [
       "   stars  \\\n",
       "0      1   \n",
       "1      1   \n",
       "2      1   \n",
       "3      1   \n",
       "4      1   \n",
       "\n",
       "                                                                                           review_body  \\\n",
       "0                     Jamás me llegó y el vendedor nunca contacto conmigo a pesar de intentarlo  veces   \n",
       "1                                              Pone que son  piezas y la realidad es que es de  piezas   \n",
       "2                                                   Saltan los plomos al tercer día de uso. A devolver   \n",
       "3                                     No me ha gustado de hecho la devolví . Súper pesada para manejar   \n",
       "4  Por más que busque, no le encuentro el agujero para meter las chuches. En las instrucciones dice...   \n",
       "\n",
       "                               review_title product_category  \n",
       "0                            Jamás me llegó             home  \n",
       "1                          Mala descripción             home  \n",
       "2           Saltan los plomos al utilizarla             home  \n",
       "3                         No merece la pena             home  \n",
       "4  No tiene agujero para rellenar la piñata             home  "
      ]
     },
     "execution_count": 54,
     "metadata": {},
     "output_type": "execute_result"
    }
   ],
   "source": [
    "df.head()"
   ]
  },
  {
   "cell_type": "code",
   "execution_count": 55,
   "id": "5ba571d6",
   "metadata": {},
   "outputs": [
    {
     "data": {
      "text/html": [
       "<div>\n",
       "<style scoped>\n",
       "    .dataframe tbody tr th:only-of-type {\n",
       "        vertical-align: middle;\n",
       "    }\n",
       "\n",
       "    .dataframe tbody tr th {\n",
       "        vertical-align: top;\n",
       "    }\n",
       "\n",
       "    .dataframe thead th {\n",
       "        text-align: right;\n",
       "    }\n",
       "</style>\n",
       "<table border=\"1\" class=\"dataframe\">\n",
       "  <thead>\n",
       "    <tr style=\"text-align: right;\">\n",
       "      <th></th>\n",
       "      <th>word</th>\n",
       "      <th>sum_tfidf</th>\n",
       "    </tr>\n",
       "  </thead>\n",
       "  <tbody>\n",
       "    <tr>\n",
       "      <th>3001</th>\n",
       "      <td>calidad</td>\n",
       "      <td>727.585123</td>\n",
       "    </tr>\n",
       "    <tr>\n",
       "      <th>15819</th>\n",
       "      <td>precio</td>\n",
       "      <td>561.840973</td>\n",
       "    </tr>\n",
       "    <tr>\n",
       "      <th>16117</th>\n",
       "      <td>producto</td>\n",
       "      <td>522.990360</td>\n",
       "    </tr>\n",
       "    <tr>\n",
       "      <th>8392</th>\n",
       "      <td>esperaba</td>\n",
       "      <td>326.269475</td>\n",
       "    </tr>\n",
       "    <tr>\n",
       "      <th>12315</th>\n",
       "      <td>luz</td>\n",
       "      <td>310.550959</td>\n",
       "    </tr>\n",
       "    <tr>\n",
       "      <th>15000</th>\n",
       "      <td>perfecto</td>\n",
       "      <td>272.686278</td>\n",
       "    </tr>\n",
       "    <tr>\n",
       "      <th>9458</th>\n",
       "      <td>foto</td>\n",
       "      <td>270.057330</td>\n",
       "    </tr>\n",
       "    <tr>\n",
       "      <th>2575</th>\n",
       "      <td>bonito</td>\n",
       "      <td>269.649991</td>\n",
       "    </tr>\n",
       "    <tr>\n",
       "      <th>12089</th>\n",
       "      <td>llegado</td>\n",
       "      <td>264.419491</td>\n",
       "    </tr>\n",
       "    <tr>\n",
       "      <th>5347</th>\n",
       "      <td>cumple</td>\n",
       "      <td>253.645066</td>\n",
       "    </tr>\n",
       "    <tr>\n",
       "      <th>17108</th>\n",
       "      <td>recomiendo</td>\n",
       "      <td>252.180021</td>\n",
       "    </tr>\n",
       "    <tr>\n",
       "      <th>14917</th>\n",
       "      <td>pequeño</td>\n",
       "      <td>244.690421</td>\n",
       "    </tr>\n",
       "    <tr>\n",
       "      <th>9633</th>\n",
       "      <td>funciona</td>\n",
       "      <td>242.175993</td>\n",
       "    </tr>\n",
       "    <tr>\n",
       "      <th>16521</th>\n",
       "      <td>queda</td>\n",
       "      <td>238.429637</td>\n",
       "    </tr>\n",
       "    <tr>\n",
       "      <th>19442</th>\n",
       "      <td>tamaño</td>\n",
       "      <td>223.033857</td>\n",
       "    </tr>\n",
       "    <tr>\n",
       "      <th>4325</th>\n",
       "      <td>compra</td>\n",
       "      <td>217.247502</td>\n",
       "    </tr>\n",
       "    <tr>\n",
       "      <th>19815</th>\n",
       "      <td>tiempo</td>\n",
       "      <td>215.259785</td>\n",
       "    </tr>\n",
       "    <tr>\n",
       "      <th>10165</th>\n",
       "      <td>gustado</td>\n",
       "      <td>200.609238</td>\n",
       "    </tr>\n",
       "    <tr>\n",
       "      <th>9701</th>\n",
       "      <td>fácil</td>\n",
       "      <td>199.504684</td>\n",
       "    </tr>\n",
       "    <tr>\n",
       "      <th>9661</th>\n",
       "      <td>función</td>\n",
       "      <td>194.458441</td>\n",
       "    </tr>\n",
       "  </tbody>\n",
       "</table>\n",
       "</div>"
      ],
      "text/plain": [
       "             word   sum_tfidf\n",
       "3001      calidad  727.585123\n",
       "15819      precio  561.840973\n",
       "16117    producto  522.990360\n",
       "8392     esperaba  326.269475\n",
       "12315         luz  310.550959\n",
       "15000    perfecto  272.686278\n",
       "9458         foto  270.057330\n",
       "2575       bonito  269.649991\n",
       "12089     llegado  264.419491\n",
       "5347       cumple  253.645066\n",
       "17108  recomiendo  252.180021\n",
       "14917     pequeño  244.690421\n",
       "9633     funciona  242.175993\n",
       "16521       queda  238.429637\n",
       "19442      tamaño  223.033857\n",
       "4325       compra  217.247502\n",
       "19815      tiempo  215.259785\n",
       "10165     gustado  200.609238\n",
       "9701        fácil  199.504684\n",
       "9661      función  194.458441"
      ]
     },
     "execution_count": 55,
     "metadata": {},
     "output_type": "execute_result"
    }
   ],
   "source": [
    "df_tfidf2 = pd.DataFrame(df_tfidf.sum().reset_index())\n",
    "df_tfidf2.columns = ['word', 'sum_tfidf']\n",
    "df_tfidf2.sort_values('sum_tfidf', ascending=False).head(20)"
   ]
  },
  {
   "cell_type": "markdown",
   "id": "70cae703",
   "metadata": {},
   "source": [
    "# Ejercicio (no-supervisado)"
   ]
  },
  {
   "cell_type": "code",
   "execution_count": 56,
   "id": "77934fdb",
   "metadata": {},
   "outputs": [],
   "source": [
    "from sklearn.cluster import KMeans\n",
    "\n",
    "kmeans = KMeans(n_clusters=5, random_state=99)"
   ]
  },
  {
   "cell_type": "code",
   "execution_count": 58,
   "id": "96a07db8",
   "metadata": {},
   "outputs": [],
   "source": [
    "vectorizer = TfidfVectorizer(stop_words=list(stopwords_list))\n",
    "\n",
    "X = vectorizer.fit_transform(reviews)"
   ]
  },
  {
   "cell_type": "code",
   "execution_count": 61,
   "id": "d1fd79fa",
   "metadata": {},
   "outputs": [
    {
     "data": {
      "text/html": [
       "<style>#sk-container-id-1 {\n",
       "  /* Definition of color scheme common for light and dark mode */\n",
       "  --sklearn-color-text: black;\n",
       "  --sklearn-color-line: gray;\n",
       "  /* Definition of color scheme for unfitted estimators */\n",
       "  --sklearn-color-unfitted-level-0: #fff5e6;\n",
       "  --sklearn-color-unfitted-level-1: #f6e4d2;\n",
       "  --sklearn-color-unfitted-level-2: #ffe0b3;\n",
       "  --sklearn-color-unfitted-level-3: chocolate;\n",
       "  /* Definition of color scheme for fitted estimators */\n",
       "  --sklearn-color-fitted-level-0: #f0f8ff;\n",
       "  --sklearn-color-fitted-level-1: #d4ebff;\n",
       "  --sklearn-color-fitted-level-2: #b3dbfd;\n",
       "  --sklearn-color-fitted-level-3: cornflowerblue;\n",
       "\n",
       "  /* Specific color for light theme */\n",
       "  --sklearn-color-text-on-default-background: var(--sg-text-color, var(--theme-code-foreground, var(--jp-content-font-color1, black)));\n",
       "  --sklearn-color-background: var(--sg-background-color, var(--theme-background, var(--jp-layout-color0, white)));\n",
       "  --sklearn-color-border-box: var(--sg-text-color, var(--theme-code-foreground, var(--jp-content-font-color1, black)));\n",
       "  --sklearn-color-icon: #696969;\n",
       "\n",
       "  @media (prefers-color-scheme: dark) {\n",
       "    /* Redefinition of color scheme for dark theme */\n",
       "    --sklearn-color-text-on-default-background: var(--sg-text-color, var(--theme-code-foreground, var(--jp-content-font-color1, white)));\n",
       "    --sklearn-color-background: var(--sg-background-color, var(--theme-background, var(--jp-layout-color0, #111)));\n",
       "    --sklearn-color-border-box: var(--sg-text-color, var(--theme-code-foreground, var(--jp-content-font-color1, white)));\n",
       "    --sklearn-color-icon: #878787;\n",
       "  }\n",
       "}\n",
       "\n",
       "#sk-container-id-1 {\n",
       "  color: var(--sklearn-color-text);\n",
       "}\n",
       "\n",
       "#sk-container-id-1 pre {\n",
       "  padding: 0;\n",
       "}\n",
       "\n",
       "#sk-container-id-1 input.sk-hidden--visually {\n",
       "  border: 0;\n",
       "  clip: rect(1px 1px 1px 1px);\n",
       "  clip: rect(1px, 1px, 1px, 1px);\n",
       "  height: 1px;\n",
       "  margin: -1px;\n",
       "  overflow: hidden;\n",
       "  padding: 0;\n",
       "  position: absolute;\n",
       "  width: 1px;\n",
       "}\n",
       "\n",
       "#sk-container-id-1 div.sk-dashed-wrapped {\n",
       "  border: 1px dashed var(--sklearn-color-line);\n",
       "  margin: 0 0.4em 0.5em 0.4em;\n",
       "  box-sizing: border-box;\n",
       "  padding-bottom: 0.4em;\n",
       "  background-color: var(--sklearn-color-background);\n",
       "}\n",
       "\n",
       "#sk-container-id-1 div.sk-container {\n",
       "  /* jupyter's `normalize.less` sets `[hidden] { display: none; }`\n",
       "     but bootstrap.min.css set `[hidden] { display: none !important; }`\n",
       "     so we also need the `!important` here to be able to override the\n",
       "     default hidden behavior on the sphinx rendered scikit-learn.org.\n",
       "     See: https://github.com/scikit-learn/scikit-learn/issues/21755 */\n",
       "  display: inline-block !important;\n",
       "  position: relative;\n",
       "}\n",
       "\n",
       "#sk-container-id-1 div.sk-text-repr-fallback {\n",
       "  display: none;\n",
       "}\n",
       "\n",
       "div.sk-parallel-item,\n",
       "div.sk-serial,\n",
       "div.sk-item {\n",
       "  /* draw centered vertical line to link estimators */\n",
       "  background-image: linear-gradient(var(--sklearn-color-text-on-default-background), var(--sklearn-color-text-on-default-background));\n",
       "  background-size: 2px 100%;\n",
       "  background-repeat: no-repeat;\n",
       "  background-position: center center;\n",
       "}\n",
       "\n",
       "/* Parallel-specific style estimator block */\n",
       "\n",
       "#sk-container-id-1 div.sk-parallel-item::after {\n",
       "  content: \"\";\n",
       "  width: 100%;\n",
       "  border-bottom: 2px solid var(--sklearn-color-text-on-default-background);\n",
       "  flex-grow: 1;\n",
       "}\n",
       "\n",
       "#sk-container-id-1 div.sk-parallel {\n",
       "  display: flex;\n",
       "  align-items: stretch;\n",
       "  justify-content: center;\n",
       "  background-color: var(--sklearn-color-background);\n",
       "  position: relative;\n",
       "}\n",
       "\n",
       "#sk-container-id-1 div.sk-parallel-item {\n",
       "  display: flex;\n",
       "  flex-direction: column;\n",
       "}\n",
       "\n",
       "#sk-container-id-1 div.sk-parallel-item:first-child::after {\n",
       "  align-self: flex-end;\n",
       "  width: 50%;\n",
       "}\n",
       "\n",
       "#sk-container-id-1 div.sk-parallel-item:last-child::after {\n",
       "  align-self: flex-start;\n",
       "  width: 50%;\n",
       "}\n",
       "\n",
       "#sk-container-id-1 div.sk-parallel-item:only-child::after {\n",
       "  width: 0;\n",
       "}\n",
       "\n",
       "/* Serial-specific style estimator block */\n",
       "\n",
       "#sk-container-id-1 div.sk-serial {\n",
       "  display: flex;\n",
       "  flex-direction: column;\n",
       "  align-items: center;\n",
       "  background-color: var(--sklearn-color-background);\n",
       "  padding-right: 1em;\n",
       "  padding-left: 1em;\n",
       "}\n",
       "\n",
       "\n",
       "/* Toggleable style: style used for estimator/Pipeline/ColumnTransformer box that is\n",
       "clickable and can be expanded/collapsed.\n",
       "- Pipeline and ColumnTransformer use this feature and define the default style\n",
       "- Estimators will overwrite some part of the style using the `sk-estimator` class\n",
       "*/\n",
       "\n",
       "/* Pipeline and ColumnTransformer style (default) */\n",
       "\n",
       "#sk-container-id-1 div.sk-toggleable {\n",
       "  /* Default theme specific background. It is overwritten whether we have a\n",
       "  specific estimator or a Pipeline/ColumnTransformer */\n",
       "  background-color: var(--sklearn-color-background);\n",
       "}\n",
       "\n",
       "/* Toggleable label */\n",
       "#sk-container-id-1 label.sk-toggleable__label {\n",
       "  cursor: pointer;\n",
       "  display: block;\n",
       "  width: 100%;\n",
       "  margin-bottom: 0;\n",
       "  padding: 0.5em;\n",
       "  box-sizing: border-box;\n",
       "  text-align: center;\n",
       "}\n",
       "\n",
       "#sk-container-id-1 label.sk-toggleable__label-arrow:before {\n",
       "  /* Arrow on the left of the label */\n",
       "  content: \"▸\";\n",
       "  float: left;\n",
       "  margin-right: 0.25em;\n",
       "  color: var(--sklearn-color-icon);\n",
       "}\n",
       "\n",
       "#sk-container-id-1 label.sk-toggleable__label-arrow:hover:before {\n",
       "  color: var(--sklearn-color-text);\n",
       "}\n",
       "\n",
       "/* Toggleable content - dropdown */\n",
       "\n",
       "#sk-container-id-1 div.sk-toggleable__content {\n",
       "  max-height: 0;\n",
       "  max-width: 0;\n",
       "  overflow: hidden;\n",
       "  text-align: left;\n",
       "  /* unfitted */\n",
       "  background-color: var(--sklearn-color-unfitted-level-0);\n",
       "}\n",
       "\n",
       "#sk-container-id-1 div.sk-toggleable__content.fitted {\n",
       "  /* fitted */\n",
       "  background-color: var(--sklearn-color-fitted-level-0);\n",
       "}\n",
       "\n",
       "#sk-container-id-1 div.sk-toggleable__content pre {\n",
       "  margin: 0.2em;\n",
       "  border-radius: 0.25em;\n",
       "  color: var(--sklearn-color-text);\n",
       "  /* unfitted */\n",
       "  background-color: var(--sklearn-color-unfitted-level-0);\n",
       "}\n",
       "\n",
       "#sk-container-id-1 div.sk-toggleable__content.fitted pre {\n",
       "  /* unfitted */\n",
       "  background-color: var(--sklearn-color-fitted-level-0);\n",
       "}\n",
       "\n",
       "#sk-container-id-1 input.sk-toggleable__control:checked~div.sk-toggleable__content {\n",
       "  /* Expand drop-down */\n",
       "  max-height: 200px;\n",
       "  max-width: 100%;\n",
       "  overflow: auto;\n",
       "}\n",
       "\n",
       "#sk-container-id-1 input.sk-toggleable__control:checked~label.sk-toggleable__label-arrow:before {\n",
       "  content: \"▾\";\n",
       "}\n",
       "\n",
       "/* Pipeline/ColumnTransformer-specific style */\n",
       "\n",
       "#sk-container-id-1 div.sk-label input.sk-toggleable__control:checked~label.sk-toggleable__label {\n",
       "  color: var(--sklearn-color-text);\n",
       "  background-color: var(--sklearn-color-unfitted-level-2);\n",
       "}\n",
       "\n",
       "#sk-container-id-1 div.sk-label.fitted input.sk-toggleable__control:checked~label.sk-toggleable__label {\n",
       "  background-color: var(--sklearn-color-fitted-level-2);\n",
       "}\n",
       "\n",
       "/* Estimator-specific style */\n",
       "\n",
       "/* Colorize estimator box */\n",
       "#sk-container-id-1 div.sk-estimator input.sk-toggleable__control:checked~label.sk-toggleable__label {\n",
       "  /* unfitted */\n",
       "  background-color: var(--sklearn-color-unfitted-level-2);\n",
       "}\n",
       "\n",
       "#sk-container-id-1 div.sk-estimator.fitted input.sk-toggleable__control:checked~label.sk-toggleable__label {\n",
       "  /* fitted */\n",
       "  background-color: var(--sklearn-color-fitted-level-2);\n",
       "}\n",
       "\n",
       "#sk-container-id-1 div.sk-label label.sk-toggleable__label,\n",
       "#sk-container-id-1 div.sk-label label {\n",
       "  /* The background is the default theme color */\n",
       "  color: var(--sklearn-color-text-on-default-background);\n",
       "}\n",
       "\n",
       "/* On hover, darken the color of the background */\n",
       "#sk-container-id-1 div.sk-label:hover label.sk-toggleable__label {\n",
       "  color: var(--sklearn-color-text);\n",
       "  background-color: var(--sklearn-color-unfitted-level-2);\n",
       "}\n",
       "\n",
       "/* Label box, darken color on hover, fitted */\n",
       "#sk-container-id-1 div.sk-label.fitted:hover label.sk-toggleable__label.fitted {\n",
       "  color: var(--sklearn-color-text);\n",
       "  background-color: var(--sklearn-color-fitted-level-2);\n",
       "}\n",
       "\n",
       "/* Estimator label */\n",
       "\n",
       "#sk-container-id-1 div.sk-label label {\n",
       "  font-family: monospace;\n",
       "  font-weight: bold;\n",
       "  display: inline-block;\n",
       "  line-height: 1.2em;\n",
       "}\n",
       "\n",
       "#sk-container-id-1 div.sk-label-container {\n",
       "  text-align: center;\n",
       "}\n",
       "\n",
       "/* Estimator-specific */\n",
       "#sk-container-id-1 div.sk-estimator {\n",
       "  font-family: monospace;\n",
       "  border: 1px dotted var(--sklearn-color-border-box);\n",
       "  border-radius: 0.25em;\n",
       "  box-sizing: border-box;\n",
       "  margin-bottom: 0.5em;\n",
       "  /* unfitted */\n",
       "  background-color: var(--sklearn-color-unfitted-level-0);\n",
       "}\n",
       "\n",
       "#sk-container-id-1 div.sk-estimator.fitted {\n",
       "  /* fitted */\n",
       "  background-color: var(--sklearn-color-fitted-level-0);\n",
       "}\n",
       "\n",
       "/* on hover */\n",
       "#sk-container-id-1 div.sk-estimator:hover {\n",
       "  /* unfitted */\n",
       "  background-color: var(--sklearn-color-unfitted-level-2);\n",
       "}\n",
       "\n",
       "#sk-container-id-1 div.sk-estimator.fitted:hover {\n",
       "  /* fitted */\n",
       "  background-color: var(--sklearn-color-fitted-level-2);\n",
       "}\n",
       "\n",
       "/* Specification for estimator info (e.g. \"i\" and \"?\") */\n",
       "\n",
       "/* Common style for \"i\" and \"?\" */\n",
       "\n",
       ".sk-estimator-doc-link,\n",
       "a:link.sk-estimator-doc-link,\n",
       "a:visited.sk-estimator-doc-link {\n",
       "  float: right;\n",
       "  font-size: smaller;\n",
       "  line-height: 1em;\n",
       "  font-family: monospace;\n",
       "  background-color: var(--sklearn-color-background);\n",
       "  border-radius: 1em;\n",
       "  height: 1em;\n",
       "  width: 1em;\n",
       "  text-decoration: none !important;\n",
       "  margin-left: 1ex;\n",
       "  /* unfitted */\n",
       "  border: var(--sklearn-color-unfitted-level-1) 1pt solid;\n",
       "  color: var(--sklearn-color-unfitted-level-1);\n",
       "}\n",
       "\n",
       ".sk-estimator-doc-link.fitted,\n",
       "a:link.sk-estimator-doc-link.fitted,\n",
       "a:visited.sk-estimator-doc-link.fitted {\n",
       "  /* fitted */\n",
       "  border: var(--sklearn-color-fitted-level-1) 1pt solid;\n",
       "  color: var(--sklearn-color-fitted-level-1);\n",
       "}\n",
       "\n",
       "/* On hover */\n",
       "div.sk-estimator:hover .sk-estimator-doc-link:hover,\n",
       ".sk-estimator-doc-link:hover,\n",
       "div.sk-label-container:hover .sk-estimator-doc-link:hover,\n",
       ".sk-estimator-doc-link:hover {\n",
       "  /* unfitted */\n",
       "  background-color: var(--sklearn-color-unfitted-level-3);\n",
       "  color: var(--sklearn-color-background);\n",
       "  text-decoration: none;\n",
       "}\n",
       "\n",
       "div.sk-estimator.fitted:hover .sk-estimator-doc-link.fitted:hover,\n",
       ".sk-estimator-doc-link.fitted:hover,\n",
       "div.sk-label-container:hover .sk-estimator-doc-link.fitted:hover,\n",
       ".sk-estimator-doc-link.fitted:hover {\n",
       "  /* fitted */\n",
       "  background-color: var(--sklearn-color-fitted-level-3);\n",
       "  color: var(--sklearn-color-background);\n",
       "  text-decoration: none;\n",
       "}\n",
       "\n",
       "/* Span, style for the box shown on hovering the info icon */\n",
       ".sk-estimator-doc-link span {\n",
       "  display: none;\n",
       "  z-index: 9999;\n",
       "  position: relative;\n",
       "  font-weight: normal;\n",
       "  right: .2ex;\n",
       "  padding: .5ex;\n",
       "  margin: .5ex;\n",
       "  width: min-content;\n",
       "  min-width: 20ex;\n",
       "  max-width: 50ex;\n",
       "  color: var(--sklearn-color-text);\n",
       "  box-shadow: 2pt 2pt 4pt #999;\n",
       "  /* unfitted */\n",
       "  background: var(--sklearn-color-unfitted-level-0);\n",
       "  border: .5pt solid var(--sklearn-color-unfitted-level-3);\n",
       "}\n",
       "\n",
       ".sk-estimator-doc-link.fitted span {\n",
       "  /* fitted */\n",
       "  background: var(--sklearn-color-fitted-level-0);\n",
       "  border: var(--sklearn-color-fitted-level-3);\n",
       "}\n",
       "\n",
       ".sk-estimator-doc-link:hover span {\n",
       "  display: block;\n",
       "}\n",
       "\n",
       "/* \"?\"-specific style due to the `<a>` HTML tag */\n",
       "\n",
       "#sk-container-id-1 a.estimator_doc_link {\n",
       "  float: right;\n",
       "  font-size: 1rem;\n",
       "  line-height: 1em;\n",
       "  font-family: monospace;\n",
       "  background-color: var(--sklearn-color-background);\n",
       "  border-radius: 1rem;\n",
       "  height: 1rem;\n",
       "  width: 1rem;\n",
       "  text-decoration: none;\n",
       "  /* unfitted */\n",
       "  color: var(--sklearn-color-unfitted-level-1);\n",
       "  border: var(--sklearn-color-unfitted-level-1) 1pt solid;\n",
       "}\n",
       "\n",
       "#sk-container-id-1 a.estimator_doc_link.fitted {\n",
       "  /* fitted */\n",
       "  border: var(--sklearn-color-fitted-level-1) 1pt solid;\n",
       "  color: var(--sklearn-color-fitted-level-1);\n",
       "}\n",
       "\n",
       "/* On hover */\n",
       "#sk-container-id-1 a.estimator_doc_link:hover {\n",
       "  /* unfitted */\n",
       "  background-color: var(--sklearn-color-unfitted-level-3);\n",
       "  color: var(--sklearn-color-background);\n",
       "  text-decoration: none;\n",
       "}\n",
       "\n",
       "#sk-container-id-1 a.estimator_doc_link.fitted:hover {\n",
       "  /* fitted */\n",
       "  background-color: var(--sklearn-color-fitted-level-3);\n",
       "}\n",
       "</style><div id=\"sk-container-id-1\" class=\"sk-top-container\"><div class=\"sk-text-repr-fallback\"><pre>KMeans(n_clusters=5, random_state=99)</pre><b>In a Jupyter environment, please rerun this cell to show the HTML representation or trust the notebook. <br />On GitHub, the HTML representation is unable to render, please try loading this page with nbviewer.org.</b></div><div class=\"sk-container\" hidden><div class=\"sk-item\"><div class=\"sk-estimator fitted sk-toggleable\"><input class=\"sk-toggleable__control sk-hidden--visually\" id=\"sk-estimator-id-1\" type=\"checkbox\" checked><label for=\"sk-estimator-id-1\" class=\"sk-toggleable__label fitted sk-toggleable__label-arrow fitted\">&nbsp;&nbsp;KMeans<a class=\"sk-estimator-doc-link fitted\" rel=\"noreferrer\" target=\"_blank\" href=\"https://scikit-learn.org/1.4/modules/generated/sklearn.cluster.KMeans.html\">?<span>Documentation for KMeans</span></a><span class=\"sk-estimator-doc-link fitted\">i<span>Fitted</span></span></label><div class=\"sk-toggleable__content fitted\"><pre>KMeans(n_clusters=5, random_state=99)</pre></div> </div></div></div></div>"
      ],
      "text/plain": [
       "KMeans(n_clusters=5, random_state=99)"
      ]
     },
     "execution_count": 61,
     "metadata": {},
     "output_type": "execute_result"
    }
   ],
   "source": [
    "kmeans.fit(X)"
   ]
  },
  {
   "cell_type": "code",
   "execution_count": 66,
   "id": "e7e19452",
   "metadata": {},
   "outputs": [
    {
     "data": {
      "text/html": [
       "<div>\n",
       "<style scoped>\n",
       "    .dataframe tbody tr th:only-of-type {\n",
       "        vertical-align: middle;\n",
       "    }\n",
       "\n",
       "    .dataframe tbody tr th {\n",
       "        vertical-align: top;\n",
       "    }\n",
       "\n",
       "    .dataframe thead th {\n",
       "        text-align: right;\n",
       "    }\n",
       "</style>\n",
       "<table border=\"1\" class=\"dataframe\">\n",
       "  <thead>\n",
       "    <tr style=\"text-align: right;\">\n",
       "      <th></th>\n",
       "      <th>review</th>\n",
       "      <th>cluster</th>\n",
       "    </tr>\n",
       "  </thead>\n",
       "  <tbody>\n",
       "    <tr>\n",
       "      <th>0</th>\n",
       "      <td>Jamás me llegó y el vendedor nunca contacto conmigo a pesar de intentarlo  veces</td>\n",
       "      <td>2</td>\n",
       "    </tr>\n",
       "    <tr>\n",
       "      <th>1</th>\n",
       "      <td>Pone que son  piezas y la realidad es que es de  piezas</td>\n",
       "      <td>2</td>\n",
       "    </tr>\n",
       "    <tr>\n",
       "      <th>2</th>\n",
       "      <td>Saltan los plomos al tercer día de uso. A devolver</td>\n",
       "      <td>2</td>\n",
       "    </tr>\n",
       "    <tr>\n",
       "      <th>3</th>\n",
       "      <td>No me ha gustado de hecho la devolví . Súper pesada para manejar</td>\n",
       "      <td>2</td>\n",
       "    </tr>\n",
       "    <tr>\n",
       "      <th>4</th>\n",
       "      <td>Por más que busque, no le encuentro el agujero para meter las chuches. En las instrucciones dice que viene tapada con una pegatina transparente, pero la mia no la tiene.</td>\n",
       "      <td>2</td>\n",
       "    </tr>\n",
       "  </tbody>\n",
       "</table>\n",
       "</div>"
      ],
      "text/plain": [
       "                                                                                                                                                                      review  \\\n",
       "0                                                                                           Jamás me llegó y el vendedor nunca contacto conmigo a pesar de intentarlo  veces   \n",
       "1                                                                                                                    Pone que son  piezas y la realidad es que es de  piezas   \n",
       "2                                                                                                                         Saltan los plomos al tercer día de uso. A devolver   \n",
       "3                                                                                                           No me ha gustado de hecho la devolví . Súper pesada para manejar   \n",
       "4  Por más que busque, no le encuentro el agujero para meter las chuches. En las instrucciones dice que viene tapada con una pegatina transparente, pero la mia no la tiene.   \n",
       "\n",
       "   cluster  \n",
       "0        2  \n",
       "1        2  \n",
       "2        2  \n",
       "3        2  \n",
       "4        2  "
      ]
     },
     "execution_count": 66,
     "metadata": {},
     "output_type": "execute_result"
    }
   ],
   "source": [
    "pd.set_option('display.max_colwidth', 300)\n",
    "\n",
    "clusters = kmeans.labels_\n",
    "\n",
    "df_kmeans = pd.DataFrame(zip(reviews, clusters), columns=['review', 'cluster'])\n",
    "df_kmeans.head()"
   ]
  },
  {
   "cell_type": "code",
   "execution_count": 67,
   "id": "9d2a1b67",
   "metadata": {},
   "outputs": [
    {
     "data": {
      "text/plain": [
       "cluster\n",
       "0     2114\n",
       "1      868\n",
       "2    21064\n",
       "3     1251\n",
       "4     1665\n",
       "dtype: int64"
      ]
     },
     "execution_count": 67,
     "metadata": {},
     "output_type": "execute_result"
    }
   ],
   "source": [
    "df_kmeans.groupby('cluster').size()"
   ]
  },
  {
   "cell_type": "code",
   "execution_count": 70,
   "id": "ba4331a4",
   "metadata": {},
   "outputs": [
    {
     "data": {
      "text/html": [
       "<div>\n",
       "<style scoped>\n",
       "    .dataframe tbody tr th:only-of-type {\n",
       "        vertical-align: middle;\n",
       "    }\n",
       "\n",
       "    .dataframe tbody tr th {\n",
       "        vertical-align: top;\n",
       "    }\n",
       "\n",
       "    .dataframe thead th {\n",
       "        text-align: right;\n",
       "    }\n",
       "</style>\n",
       "<table border=\"1\" class=\"dataframe\">\n",
       "  <thead>\n",
       "    <tr style=\"text-align: right;\">\n",
       "      <th></th>\n",
       "      <th>review</th>\n",
       "      <th>cluster</th>\n",
       "    </tr>\n",
       "  </thead>\n",
       "  <tbody>\n",
       "    <tr>\n",
       "      <th>16</th>\n",
       "      <td>Muy mala calidad, se despega enseguida</td>\n",
       "      <td>4</td>\n",
       "    </tr>\n",
       "    <tr>\n",
       "      <th>27</th>\n",
       "      <td>La caja es demasiado pequeña para el precio que tiene</td>\n",
       "      <td>4</td>\n",
       "    </tr>\n",
       "    <tr>\n",
       "      <th>48</th>\n",
       "      <td>las cajas vienes muy deformadas mala calidad precio me esperaba otra cosa no son igual que en la foto gracias</td>\n",
       "      <td>4</td>\n",
       "    </tr>\n",
       "    <tr>\n",
       "      <th>59</th>\n",
       "      <td>Precio elevado. He visto el producto en otros lados mucho más barato. La calidad es regular. No recomiendo su compra</td>\n",
       "      <td>4</td>\n",
       "    </tr>\n",
       "    <tr>\n",
       "      <th>76</th>\n",
       "      <td>No me gusto nada la calidad del producto, mis expectativas eran otras acerca de la calidad,pensé que era más suave</td>\n",
       "      <td>4</td>\n",
       "    </tr>\n",
       "    <tr>\n",
       "      <th>...</th>\n",
       "      <td>...</td>\n",
       "      <td>...</td>\n",
       "    </tr>\n",
       "    <tr>\n",
       "      <th>26875</th>\n",
       "      <td>Me ha encantado el diseño que tiene con el círculo central más grande que el resto. Material de calidad por un precio económico</td>\n",
       "      <td>4</td>\n",
       "    </tr>\n",
       "    <tr>\n",
       "      <th>26909</th>\n",
       "      <td>Es preciosa, muy alegre y de buena calidad</td>\n",
       "      <td>4</td>\n",
       "    </tr>\n",
       "    <tr>\n",
       "      <th>26933</th>\n",
       "      <td>Perfecta, buena calidad.</td>\n",
       "      <td>4</td>\n",
       "    </tr>\n",
       "    <tr>\n",
       "      <th>26946</th>\n",
       "      <td>Vienen  luces solares, cargan bastante rápido y por la noche su iluminación es ambiente y buena en forma de estrella, calidad precio está bien</td>\n",
       "      <td>4</td>\n",
       "    </tr>\n",
       "    <tr>\n",
       "      <th>26951</th>\n",
       "      <td>Me han llegado perfectamente y rápido, parecen de muy buena calidad</td>\n",
       "      <td>4</td>\n",
       "    </tr>\n",
       "  </tbody>\n",
       "</table>\n",
       "<p>1665 rows × 2 columns</p>\n",
       "</div>"
      ],
      "text/plain": [
       "                                                                                                                                               review  \\\n",
       "16                                                                                                             Muy mala calidad, se despega enseguida   \n",
       "27                                                                                              La caja es demasiado pequeña para el precio que tiene   \n",
       "48                                      las cajas vienes muy deformadas mala calidad precio me esperaba otra cosa no son igual que en la foto gracias   \n",
       "59                               Precio elevado. He visto el producto en otros lados mucho más barato. La calidad es regular. No recomiendo su compra   \n",
       "76                                 No me gusto nada la calidad del producto, mis expectativas eran otras acerca de la calidad,pensé que era más suave   \n",
       "...                                                                                                                                               ...   \n",
       "26875                 Me ha encantado el diseño que tiene con el círculo central más grande que el resto. Material de calidad por un precio económico   \n",
       "26909                                                                                                      Es preciosa, muy alegre y de buena calidad   \n",
       "26933                                                                                                                        Perfecta, buena calidad.   \n",
       "26946  Vienen  luces solares, cargan bastante rápido y por la noche su iluminación es ambiente y buena en forma de estrella, calidad precio está bien   \n",
       "26951                                                                             Me han llegado perfectamente y rápido, parecen de muy buena calidad   \n",
       "\n",
       "       cluster  \n",
       "16           4  \n",
       "27           4  \n",
       "48           4  \n",
       "59           4  \n",
       "76           4  \n",
       "...        ...  \n",
       "26875        4  \n",
       "26909        4  \n",
       "26933        4  \n",
       "26946        4  \n",
       "26951        4  \n",
       "\n",
       "[1665 rows x 2 columns]"
      ]
     },
     "execution_count": 70,
     "metadata": {},
     "output_type": "execute_result"
    }
   ],
   "source": [
    "df_kmeans[df_kmeans.cluster==4]"
   ]
  },
  {
   "cell_type": "code",
   "execution_count": null,
   "id": "d2fcd45f",
   "metadata": {},
   "outputs": [],
   "source": []
  },
  {
   "cell_type": "code",
   "execution_count": null,
   "id": "26ca0d01",
   "metadata": {},
   "outputs": [],
   "source": []
  }
 ],
 "metadata": {
  "kernelspec": {
   "display_name": "Python 3 (ipykernel)",
   "language": "python",
   "name": "python3"
  },
  "language_info": {
   "codemirror_mode": {
    "name": "ipython",
    "version": 3
   },
   "file_extension": ".py",
   "mimetype": "text/x-python",
   "name": "python",
   "nbconvert_exporter": "python",
   "pygments_lexer": "ipython3",
   "version": "3.10.13"
  }
 },
 "nbformat": 4,
 "nbformat_minor": 5
}
