{
 "cells": [
  {
   "cell_type": "markdown",
   "id": "881a634a",
   "metadata": {},
   "source": [
    "# Dataset"
   ]
  },
  {
   "cell_type": "code",
   "execution_count": 1,
   "id": "7da09f2a",
   "metadata": {},
   "outputs": [
    {
     "data": {
      "text/html": [
       "<div>\n",
       "<style scoped>\n",
       "    .dataframe tbody tr th:only-of-type {\n",
       "        vertical-align: middle;\n",
       "    }\n",
       "\n",
       "    .dataframe tbody tr th {\n",
       "        vertical-align: top;\n",
       "    }\n",
       "\n",
       "    .dataframe thead th {\n",
       "        text-align: right;\n",
       "    }\n",
       "</style>\n",
       "<table border=\"1\" class=\"dataframe\">\n",
       "  <thead>\n",
       "    <tr style=\"text-align: right;\">\n",
       "      <th></th>\n",
       "      <th>stars</th>\n",
       "      <th>review_body</th>\n",
       "      <th>review_title</th>\n",
       "      <th>product_category</th>\n",
       "    </tr>\n",
       "  </thead>\n",
       "  <tbody>\n",
       "    <tr>\n",
       "      <th>0</th>\n",
       "      <td>1</td>\n",
       "      <td>nunca llego el pedido y el vendedor pasa de todo no contestan</td>\n",
       "      <td>No llego nunca</td>\n",
       "      <td>sports</td>\n",
       "    </tr>\n",
       "    <tr>\n",
       "      <th>1</th>\n",
       "      <td>1</td>\n",
       "      <td>no sé como es, porque debería haber llegado ayer día  de marzo, y hoy  por la noche sigo esperando que llegue el frontal. y me habéis mandado el formulario de opinión. pues de momento mala no ha cumplido con la fecha de entrega.</td>\n",
       "      <td>Todavía no ha llegado</td>\n",
       "      <td>sports</td>\n",
       "    </tr>\n",
       "    <tr>\n",
       "      <th>2</th>\n",
       "      <td>1</td>\n",
       "      <td>guantes cómodos, no lo niego, pero de mala calidad. yo creo que en caso de caída no valdrian para mucho, dos meses de uso y se están rajando.</td>\n",
       "      <td>Guantes de baja calidad</td>\n",
       "      <td>sports</td>\n",
       "    </tr>\n",
       "    <tr>\n",
       "      <th>3</th>\n",
       "      <td>1</td>\n",
       "      <td>hasta hoy no he visto el producto. el pedido hace ya casi  mes. y notifico que he usado prime para está compra.</td>\n",
       "      <td>Muy Mala experiencia</td>\n",
       "      <td>sports</td>\n",
       "    </tr>\n",
       "    <tr>\n",
       "      <th>4</th>\n",
       "      <td>1</td>\n",
       "      <td>no puedo valorarla porque, después de casi una semana, aún no he recibido mi pedido. pienso que amazon tendría que valorar las compañías de transporte con que trabaja, porque es indignante que pague mi cuota prime y nunca reciba mi pedido el día que toca</td>\n",
       "      <td>Paquete perdido?</td>\n",
       "      <td>sports</td>\n",
       "    </tr>\n",
       "  </tbody>\n",
       "</table>\n",
       "</div>"
      ],
      "text/plain": [
       "   stars  \\\n",
       "0      1   \n",
       "1      1   \n",
       "2      1   \n",
       "3      1   \n",
       "4      1   \n",
       "\n",
       "                                                                                                                                                                                                                                                      review_body  \\\n",
       "0                                                                                                                                                                                                   nunca llego el pedido y el vendedor pasa de todo no contestan   \n",
       "1                            no sé como es, porque debería haber llegado ayer día  de marzo, y hoy  por la noche sigo esperando que llegue el frontal. y me habéis mandado el formulario de opinión. pues de momento mala no ha cumplido con la fecha de entrega.   \n",
       "2                                                                                                                   guantes cómodos, no lo niego, pero de mala calidad. yo creo que en caso de caída no valdrian para mucho, dos meses de uso y se están rajando.   \n",
       "3                                                                                                                                                 hasta hoy no he visto el producto. el pedido hace ya casi  mes. y notifico que he usado prime para está compra.   \n",
       "4  no puedo valorarla porque, después de casi una semana, aún no he recibido mi pedido. pienso que amazon tendría que valorar las compañías de transporte con que trabaja, porque es indignante que pague mi cuota prime y nunca reciba mi pedido el día que toca   \n",
       "\n",
       "              review_title product_category  \n",
       "0           No llego nunca           sports  \n",
       "1    Todavía no ha llegado           sports  \n",
       "2  Guantes de baja calidad           sports  \n",
       "3     Muy Mala experiencia           sports  \n",
       "4         Paquete perdido?           sports  "
      ]
     },
     "execution_count": 1,
     "metadata": {},
     "output_type": "execute_result"
    }
   ],
   "source": [
    "import pandas as pd\n",
    "pd.set_option('display.max_colwidth', None)\n",
    "\n",
    "df = pd.read_csv(\"https://raw.githubusercontent.com/eduardofc/data/main/amazon_sports.csv\")\n",
    "df['review_body'] = df['review_body'].str.replace(\"[^a-zA-Zñáéíóú .,]\", \"\", regex=True)\n",
    "df['review_body'] = df['review_body'].str.lower()\n",
    "df.head()"
   ]
  },
  {
   "cell_type": "code",
   "execution_count": 2,
   "id": "9e980edb",
   "metadata": {},
   "outputs": [
    {
     "data": {
      "text/plain": [
       "good_product\n",
       "0    4989\n",
       "1    5372\n",
       "dtype: int64"
      ]
     },
     "execution_count": 2,
     "metadata": {},
     "output_type": "execute_result"
    }
   ],
   "source": [
    "df = df[df.stars!=3]\n",
    "df['good_product'] = (df.stars>3).astype(int)\n",
    "df.groupby('good_product').size()"
   ]
  },
  {
   "cell_type": "markdown",
   "id": "9241e70f",
   "metadata": {},
   "source": [
    "# Text Classification"
   ]
  },
  {
   "cell_type": "code",
   "execution_count": 3,
   "id": "ee28a48f",
   "metadata": {},
   "outputs": [
    {
     "name": "stdout",
     "output_type": "stream",
     "text": [
      "WARNING:tensorflow:From C:\\Users\\efclprd\\anaconda3\\envs\\nlp_course\\lib\\site-packages\\keras\\src\\losses.py:2976: The name tf.losses.sparse_softmax_cross_entropy is deprecated. Please use tf.compat.v1.losses.sparse_softmax_cross_entropy instead.\n",
      "\n"
     ]
    }
   ],
   "source": [
    "from tensorflow.keras.preprocessing.text import Tokenizer\n",
    "from tensorflow.keras.preprocessing.sequence import pad_sequences\n",
    "from sklearn.model_selection import train_test_split"
   ]
  },
  {
   "cell_type": "code",
   "execution_count": 4,
   "id": "67facb7e",
   "metadata": {},
   "outputs": [
    {
     "name": "stdout",
     "output_type": "stream",
     "text": [
      "8288\n",
      "2073\n"
     ]
    }
   ],
   "source": [
    "X = df.review_body.values\n",
    "y = df.good_product\n",
    "\n",
    "X_train, X_test, y_train, y_test = train_test_split(X, y, test_size=.2, random_state=33)\n",
    "\n",
    "print(len(X_train))\n",
    "print(len(X_test))"
   ]
  },
  {
   "cell_type": "code",
   "execution_count": 5,
   "id": "4259a1dc",
   "metadata": {},
   "outputs": [],
   "source": [
    "# tokenizer\n",
    "\n",
    "vocab_size = 5000\n",
    "\n",
    "tokenizer = Tokenizer(num_words=vocab_size, oov_token='<OOV>')\n",
    "tokenizer.fit_on_texts(X_train)"
   ]
  },
  {
   "cell_type": "code",
   "execution_count": 6,
   "id": "5522aab9",
   "metadata": {},
   "outputs": [],
   "source": [
    "tokenized_train = tokenizer.texts_to_sequences(X_train)\n",
    "tokenized_test = tokenizer.texts_to_sequences(X_test)"
   ]
  },
  {
   "cell_type": "code",
   "execution_count": 7,
   "id": "36130a1a",
   "metadata": {},
   "outputs": [],
   "source": [
    "# padding\n",
    "\n",
    "max_length = 50\n",
    "\n",
    "padded_train = pad_sequences(tokenized_train, maxlen=max_length)\n",
    "padded_test = pad_sequences(tokenized_test, maxlen=max_length)"
   ]
  },
  {
   "cell_type": "code",
   "execution_count": 8,
   "id": "a73aabc4",
   "metadata": {},
   "outputs": [
    {
     "data": {
      "text/plain": [
       "array([[   8,    1,    3, ...,   47, 2120,  270],\n",
       "       [   0,    0,    0, ...,   16,   35, 1514],\n",
       "       [   0,    0,    0, ...,  831,   31,   32],\n",
       "       ...,\n",
       "       [   0,    0,    0, ...,   43,  138,  270],\n",
       "       [   0,    0,    0, ...,  623,   39,   53],\n",
       "       [   0,    0,    0, ...,  687,    3, 1765]])"
      ]
     },
     "execution_count": 8,
     "metadata": {},
     "output_type": "execute_result"
    }
   ],
   "source": [
    "padded_train"
   ]
  },
  {
   "cell_type": "markdown",
   "id": "6f2f2209",
   "metadata": {},
   "source": [
    "# Models"
   ]
  },
  {
   "cell_type": "code",
   "execution_count": 9,
   "id": "6cefe50f",
   "metadata": {},
   "outputs": [],
   "source": [
    "import tensorflow.keras as keras\n",
    "import numpy as np\n",
    "from time import time\n",
    "\n",
    "from keras import Sequential\n",
    "from keras.layers import *\n",
    "from keras.optimizers import Adam"
   ]
  },
  {
   "cell_type": "code",
   "execution_count": 13,
   "id": "d54d180e",
   "metadata": {},
   "outputs": [],
   "source": [
    "def compile_model(model):\n",
    "    model.compile(\n",
    "        loss='binary_crossentropy',\n",
    "        optimizer='adam',\n",
    "        metrics='accuracy'\n",
    "    )\n",
    "#     model.summary()\n",
    "\n",
    "def fit_model(model):\n",
    "    model.fit(\n",
    "        padded_train, y_train,\n",
    "        epochs=20,\n",
    "        batch_size=100,\n",
    "        validation_data=(padded_test, y_test)\n",
    "    )"
   ]
  },
  {
   "cell_type": "markdown",
   "id": "51238fa6",
   "metadata": {},
   "source": [
    "## Model 1: MLP"
   ]
  },
  {
   "cell_type": "code",
   "execution_count": 14,
   "id": "eca64608",
   "metadata": {},
   "outputs": [],
   "source": [
    "keras.utils.set_random_seed(812)\n",
    "\n",
    "model = Sequential([\n",
    "    Flatten(input_shape=(max_length,)),\n",
    "    Dense(128, activation='relu'),\n",
    "    Dense(54, activation='relu'),\n",
    "    Dense(1, activation='sigmoid')\n",
    "])\n",
    "compile_model(model)"
   ]
  },
  {
   "cell_type": "code",
   "execution_count": 15,
   "id": "5e36e10e",
   "metadata": {
    "scrolled": true
   },
   "outputs": [
    {
     "name": "stdout",
     "output_type": "stream",
     "text": [
      "Epoch 1/20\n",
      "83/83 [==============================] - 1s 4ms/step - loss: 47.3593 - accuracy: 0.5048 - val_loss: 23.0460 - val_accuracy: 0.4954\n",
      "Epoch 2/20\n",
      "83/83 [==============================] - 0s 3ms/step - loss: 18.2673 - accuracy: 0.5332 - val_loss: 15.9072 - val_accuracy: 0.5065\n",
      "Epoch 3/20\n",
      "83/83 [==============================] - 0s 2ms/step - loss: 11.8044 - accuracy: 0.5556 - val_loss: 13.4263 - val_accuracy: 0.5080\n",
      "Epoch 4/20\n",
      "83/83 [==============================] - 0s 2ms/step - loss: 8.3238 - accuracy: 0.5893 - val_loss: 11.9636 - val_accuracy: 0.5051\n",
      "Epoch 5/20\n",
      "83/83 [==============================] - 0s 2ms/step - loss: 6.1279 - accuracy: 0.6053 - val_loss: 11.1099 - val_accuracy: 0.5128\n",
      "Epoch 6/20\n",
      "83/83 [==============================] - 0s 2ms/step - loss: 5.0438 - accuracy: 0.6248 - val_loss: 9.9673 - val_accuracy: 0.5205\n",
      "Epoch 7/20\n",
      "83/83 [==============================] - 0s 2ms/step - loss: 4.4862 - accuracy: 0.6357 - val_loss: 9.5762 - val_accuracy: 0.5099\n",
      "Epoch 8/20\n",
      "83/83 [==============================] - 0s 3ms/step - loss: 3.5760 - accuracy: 0.6499 - val_loss: 9.2706 - val_accuracy: 0.5176\n",
      "Epoch 9/20\n",
      "83/83 [==============================] - 0s 3ms/step - loss: 2.9178 - accuracy: 0.6721 - val_loss: 8.9863 - val_accuracy: 0.5224\n",
      "Epoch 10/20\n",
      "83/83 [==============================] - 0s 3ms/step - loss: 2.7290 - accuracy: 0.6770 - val_loss: 8.7880 - val_accuracy: 0.5292\n",
      "Epoch 11/20\n",
      "83/83 [==============================] - 0s 3ms/step - loss: 2.5280 - accuracy: 0.6863 - val_loss: 8.2352 - val_accuracy: 0.5171\n",
      "Epoch 12/20\n",
      "83/83 [==============================] - 0s 3ms/step - loss: 1.9800 - accuracy: 0.7051 - val_loss: 8.2142 - val_accuracy: 0.5200\n",
      "Epoch 13/20\n",
      "83/83 [==============================] - 0s 3ms/step - loss: 1.8711 - accuracy: 0.7143 - val_loss: 7.7969 - val_accuracy: 0.5191\n",
      "Epoch 14/20\n",
      "83/83 [==============================] - 0s 3ms/step - loss: 1.6599 - accuracy: 0.7213 - val_loss: 8.1041 - val_accuracy: 0.5084\n",
      "Epoch 15/20\n",
      "83/83 [==============================] - 0s 3ms/step - loss: 1.4640 - accuracy: 0.7352 - val_loss: 7.7675 - val_accuracy: 0.5210\n",
      "Epoch 16/20\n",
      "83/83 [==============================] - 0s 3ms/step - loss: 1.5674 - accuracy: 0.7251 - val_loss: 7.3228 - val_accuracy: 0.5234\n",
      "Epoch 17/20\n",
      "83/83 [==============================] - 0s 3ms/step - loss: 1.4927 - accuracy: 0.7367 - val_loss: 6.9777 - val_accuracy: 0.5248\n",
      "Epoch 18/20\n",
      "83/83 [==============================] - 0s 3ms/step - loss: 1.2828 - accuracy: 0.7388 - val_loss: 6.8194 - val_accuracy: 0.5229\n",
      "Epoch 19/20\n",
      "83/83 [==============================] - 0s 3ms/step - loss: 1.3869 - accuracy: 0.7397 - val_loss: 6.9641 - val_accuracy: 0.5195\n",
      "Epoch 20/20\n",
      "83/83 [==============================] - 0s 2ms/step - loss: 1.1305 - accuracy: 0.7557 - val_loss: 6.7189 - val_accuracy: 0.5166\n"
     ]
    }
   ],
   "source": [
    "fit_model(model)"
   ]
  },
  {
   "cell_type": "markdown",
   "id": "65d41503",
   "metadata": {},
   "source": [
    "## Model 2: MLP + Embeddings"
   ]
  },
  {
   "cell_type": "code",
   "execution_count": 18,
   "id": "6daa6d96",
   "metadata": {},
   "outputs": [],
   "source": [
    "keras.utils.set_random_seed(812)\n",
    "\n",
    "embd_size=20\n",
    "\n",
    "model = Sequential([\n",
    "    Embedding(\n",
    "        input_dim=vocab_size,\n",
    "        output_dim=embd_size,\n",
    "        input_length=max_length\n",
    "    ), \n",
    "    Flatten(),\n",
    "    Dense(1, activation='sigmoid')\n",
    "])\n",
    "compile_model(model)"
   ]
  },
  {
   "cell_type": "code",
   "execution_count": 19,
   "id": "716b34a0",
   "metadata": {
    "scrolled": true
   },
   "outputs": [
    {
     "name": "stdout",
     "output_type": "stream",
     "text": [
      "Epoch 1/20\n",
      "83/83 [==============================] - 1s 7ms/step - loss: 0.6788 - accuracy: 0.5685 - val_loss: 0.6575 - val_accuracy: 0.6454\n",
      "Epoch 2/20\n",
      "83/83 [==============================] - 0s 3ms/step - loss: 0.5844 - accuracy: 0.7396 - val_loss: 0.5197 - val_accuracy: 0.7752\n",
      "Epoch 3/20\n",
      "83/83 [==============================] - 0s 3ms/step - loss: 0.4301 - accuracy: 0.8343 - val_loss: 0.4164 - val_accuracy: 0.8215\n",
      "Epoch 4/20\n",
      "83/83 [==============================] - 0s 3ms/step - loss: 0.3378 - accuracy: 0.8733 - val_loss: 0.3757 - val_accuracy: 0.8350\n",
      "Epoch 5/20\n",
      "83/83 [==============================] - 0s 3ms/step - loss: 0.2810 - accuracy: 0.8977 - val_loss: 0.3557 - val_accuracy: 0.8495\n",
      "Epoch 6/20\n",
      "83/83 [==============================] - 0s 3ms/step - loss: 0.2412 - accuracy: 0.9167 - val_loss: 0.3461 - val_accuracy: 0.8529\n",
      "Epoch 7/20\n",
      "83/83 [==============================] - 0s 3ms/step - loss: 0.2069 - accuracy: 0.9319 - val_loss: 0.3428 - val_accuracy: 0.8514\n",
      "Epoch 8/20\n",
      "83/83 [==============================] - 0s 3ms/step - loss: 0.1785 - accuracy: 0.9474 - val_loss: 0.3435 - val_accuracy: 0.8538\n",
      "Epoch 9/20\n",
      "83/83 [==============================] - 0s 3ms/step - loss: 0.1553 - accuracy: 0.9575 - val_loss: 0.3440 - val_accuracy: 0.8471\n",
      "Epoch 10/20\n",
      "83/83 [==============================] - 0s 3ms/step - loss: 0.1341 - accuracy: 0.9646 - val_loss: 0.3510 - val_accuracy: 0.8442\n",
      "Epoch 11/20\n",
      "83/83 [==============================] - 0s 3ms/step - loss: 0.1167 - accuracy: 0.9719 - val_loss: 0.3521 - val_accuracy: 0.8432\n",
      "Epoch 12/20\n",
      "83/83 [==============================] - 0s 3ms/step - loss: 0.1010 - accuracy: 0.9791 - val_loss: 0.3596 - val_accuracy: 0.8471\n",
      "Epoch 13/20\n",
      "83/83 [==============================] - 0s 3ms/step - loss: 0.0888 - accuracy: 0.9823 - val_loss: 0.3635 - val_accuracy: 0.8408\n",
      "Epoch 14/20\n",
      "83/83 [==============================] - 0s 3ms/step - loss: 0.0774 - accuracy: 0.9865 - val_loss: 0.3698 - val_accuracy: 0.8427\n",
      "Epoch 15/20\n",
      "83/83 [==============================] - 0s 3ms/step - loss: 0.0676 - accuracy: 0.9899 - val_loss: 0.3761 - val_accuracy: 0.8442\n",
      "Epoch 16/20\n",
      "83/83 [==============================] - 0s 3ms/step - loss: 0.0596 - accuracy: 0.9905 - val_loss: 0.3843 - val_accuracy: 0.8389\n",
      "Epoch 17/20\n",
      "83/83 [==============================] - 0s 3ms/step - loss: 0.0529 - accuracy: 0.9923 - val_loss: 0.3904 - val_accuracy: 0.8403\n",
      "Epoch 18/20\n",
      "83/83 [==============================] - 0s 3ms/step - loss: 0.0470 - accuracy: 0.9936 - val_loss: 0.4005 - val_accuracy: 0.8389\n",
      "Epoch 19/20\n",
      "83/83 [==============================] - 0s 3ms/step - loss: 0.0423 - accuracy: 0.9951 - val_loss: 0.4062 - val_accuracy: 0.8413\n",
      "Epoch 20/20\n",
      "83/83 [==============================] - 0s 3ms/step - loss: 0.0374 - accuracy: 0.9958 - val_loss: 0.4131 - val_accuracy: 0.8398\n"
     ]
    }
   ],
   "source": [
    "fit_model(model)"
   ]
  },
  {
   "cell_type": "markdown",
   "id": "99946f43",
   "metadata": {},
   "source": [
    "## Model 3: CNN + Embeddings"
   ]
  },
  {
   "cell_type": "code",
   "execution_count": 27,
   "id": "d0b2ddb1",
   "metadata": {},
   "outputs": [],
   "source": [
    "keras.utils.set_random_seed(812)\n",
    "\n",
    "embd_size = 20\n",
    "ks = 5\n",
    "n_filters = 64\n",
    "\n",
    "model = Sequential([\n",
    "    Embedding(\n",
    "        input_dim=vocab_size,\n",
    "        output_dim=embd_size,\n",
    "        input_length=max_length\n",
    "    ), \n",
    "    Conv1D(kernel_size=ks, filters=n_filters),\n",
    "    GlobalAveragePooling1D(),\n",
    "    Dense(6, activation='relu'),\n",
    "    Dense(1, activation='sigmoid')\n",
    "])\n",
    "compile_model(model)"
   ]
  },
  {
   "cell_type": "code",
   "execution_count": 28,
   "id": "5f750a36",
   "metadata": {
    "scrolled": true
   },
   "outputs": [
    {
     "name": "stdout",
     "output_type": "stream",
     "text": [
      "Epoch 1/20\n",
      "83/83 [==============================] - 1s 7ms/step - loss: 0.6594 - accuracy: 0.5938 - val_loss: 0.5665 - val_accuracy: 0.7795\n",
      "Epoch 2/20\n",
      "83/83 [==============================] - 0s 5ms/step - loss: 0.4138 - accuracy: 0.8341 - val_loss: 0.3795 - val_accuracy: 0.8394\n",
      "Epoch 3/20\n",
      "83/83 [==============================] - 0s 5ms/step - loss: 0.2833 - accuracy: 0.8891 - val_loss: 0.3511 - val_accuracy: 0.8534\n",
      "Epoch 4/20\n",
      "83/83 [==============================] - 0s 5ms/step - loss: 0.2242 - accuracy: 0.9183 - val_loss: 0.3651 - val_accuracy: 0.8534\n",
      "Epoch 5/20\n",
      "83/83 [==============================] - 0s 5ms/step - loss: 0.1891 - accuracy: 0.9336 - val_loss: 0.3944 - val_accuracy: 0.8534\n",
      "Epoch 6/20\n",
      "83/83 [==============================] - 0s 5ms/step - loss: 0.1586 - accuracy: 0.9472 - val_loss: 0.4233 - val_accuracy: 0.8495\n",
      "Epoch 7/20\n",
      "83/83 [==============================] - 0s 5ms/step - loss: 0.1357 - accuracy: 0.9579 - val_loss: 0.4690 - val_accuracy: 0.8413\n",
      "Epoch 8/20\n",
      "83/83 [==============================] - 0s 5ms/step - loss: 0.1201 - accuracy: 0.9625 - val_loss: 0.4946 - val_accuracy: 0.8442\n",
      "Epoch 9/20\n",
      "83/83 [==============================] - 0s 5ms/step - loss: 0.1075 - accuracy: 0.9674 - val_loss: 0.5556 - val_accuracy: 0.8413\n",
      "Epoch 10/20\n",
      "83/83 [==============================] - 0s 5ms/step - loss: 0.0944 - accuracy: 0.9713 - val_loss: 0.5769 - val_accuracy: 0.8423\n",
      "Epoch 11/20\n",
      "83/83 [==============================] - 0s 5ms/step - loss: 0.0849 - accuracy: 0.9745 - val_loss: 0.6499 - val_accuracy: 0.8360\n",
      "Epoch 12/20\n",
      "83/83 [==============================] - 0s 5ms/step - loss: 0.0814 - accuracy: 0.9761 - val_loss: 0.6718 - val_accuracy: 0.8288\n",
      "Epoch 13/20\n",
      "83/83 [==============================] - 0s 5ms/step - loss: 0.0688 - accuracy: 0.9808 - val_loss: 0.7362 - val_accuracy: 0.8331\n",
      "Epoch 14/20\n",
      "83/83 [==============================] - 0s 5ms/step - loss: 0.0674 - accuracy: 0.9800 - val_loss: 0.7450 - val_accuracy: 0.8297\n",
      "Epoch 15/20\n",
      "83/83 [==============================] - 0s 5ms/step - loss: 0.0585 - accuracy: 0.9837 - val_loss: 0.8745 - val_accuracy: 0.8249\n",
      "Epoch 16/20\n",
      "83/83 [==============================] - 0s 5ms/step - loss: 0.0562 - accuracy: 0.9844 - val_loss: 0.9060 - val_accuracy: 0.8259\n",
      "Epoch 17/20\n",
      "83/83 [==============================] - 0s 5ms/step - loss: 0.0535 - accuracy: 0.9849 - val_loss: 0.9419 - val_accuracy: 0.8181\n",
      "Epoch 18/20\n",
      "83/83 [==============================] - 0s 4ms/step - loss: 0.0457 - accuracy: 0.9876 - val_loss: 0.9585 - val_accuracy: 0.8210\n",
      "Epoch 19/20\n",
      "83/83 [==============================] - 0s 4ms/step - loss: 0.0496 - accuracy: 0.9858 - val_loss: 0.9859 - val_accuracy: 0.8123\n",
      "Epoch 20/20\n",
      "83/83 [==============================] - 0s 5ms/step - loss: 0.0476 - accuracy: 0.9856 - val_loss: 1.0280 - val_accuracy: 0.8143\n"
     ]
    }
   ],
   "source": [
    "fit_model(model)"
   ]
  },
  {
   "cell_type": "markdown",
   "id": "a44e3263",
   "metadata": {},
   "source": [
    "## Model 4: (Bi)-LSTM + Embeddings"
   ]
  },
  {
   "cell_type": "code",
   "execution_count": 32,
   "id": "3663f7e2",
   "metadata": {},
   "outputs": [],
   "source": [
    "keras.utils.set_random_seed(812)\n",
    "\n",
    "embd_size = 20\n",
    "lstm_dim = 32\n",
    "\n",
    "model = Sequential([\n",
    "    Embedding(\n",
    "        input_dim=vocab_size,\n",
    "        output_dim=embd_size,\n",
    "        input_length=max_length\n",
    "    ), \n",
    "#     LSTM(lstm_dim),\n",
    "    Bidirectional(LSTM(lstm_dim)),\n",
    "    Dense(1, activation='sigmoid')\n",
    "])\n",
    "compile_model(model)"
   ]
  },
  {
   "cell_type": "code",
   "execution_count": 33,
   "id": "bc325458",
   "metadata": {
    "scrolled": false
   },
   "outputs": [
    {
     "name": "stdout",
     "output_type": "stream",
     "text": [
      "Epoch 1/20\n",
      "83/83 [==============================] - 6s 31ms/step - loss: 0.6330 - accuracy: 0.6248 - val_loss: 0.4954 - val_accuracy: 0.8119\n",
      "Epoch 2/20\n",
      "83/83 [==============================] - 2s 21ms/step - loss: 0.3883 - accuracy: 0.8415 - val_loss: 0.3702 - val_accuracy: 0.8442\n",
      "Epoch 3/20\n",
      "83/83 [==============================] - 2s 21ms/step - loss: 0.2664 - accuracy: 0.8959 - val_loss: 0.3548 - val_accuracy: 0.8476\n",
      "Epoch 4/20\n",
      "83/83 [==============================] - 2s 21ms/step - loss: 0.2076 - accuracy: 0.9235 - val_loss: 0.3786 - val_accuracy: 0.8529\n",
      "Epoch 5/20\n",
      "83/83 [==============================] - 2s 21ms/step - loss: 0.1784 - accuracy: 0.9361 - val_loss: 0.4224 - val_accuracy: 0.8490\n",
      "Epoch 6/20\n",
      "83/83 [==============================] - 2s 21ms/step - loss: 0.1395 - accuracy: 0.9531 - val_loss: 0.4434 - val_accuracy: 0.8452\n",
      "Epoch 7/20\n",
      "83/83 [==============================] - 2s 21ms/step - loss: 0.1191 - accuracy: 0.9616 - val_loss: 0.5092 - val_accuracy: 0.8302\n",
      "Epoch 8/20\n",
      "83/83 [==============================] - 2s 21ms/step - loss: 0.1104 - accuracy: 0.9665 - val_loss: 0.5460 - val_accuracy: 0.8350\n",
      "Epoch 9/20\n",
      "83/83 [==============================] - 2s 21ms/step - loss: 0.0876 - accuracy: 0.9756 - val_loss: 0.5681 - val_accuracy: 0.8302\n",
      "Epoch 10/20\n",
      "83/83 [==============================] - 2s 21ms/step - loss: 0.0783 - accuracy: 0.9792 - val_loss: 0.6111 - val_accuracy: 0.8288\n",
      "Epoch 11/20\n",
      "83/83 [==============================] - 2s 21ms/step - loss: 0.0679 - accuracy: 0.9823 - val_loss: 0.6502 - val_accuracy: 0.8254\n",
      "Epoch 12/20\n",
      "83/83 [==============================] - 2s 21ms/step - loss: 0.0619 - accuracy: 0.9840 - val_loss: 0.6668 - val_accuracy: 0.8177\n",
      "Epoch 13/20\n",
      "83/83 [==============================] - 2s 21ms/step - loss: 0.0542 - accuracy: 0.9875 - val_loss: 0.7004 - val_accuracy: 0.8259\n",
      "Epoch 14/20\n",
      "83/83 [==============================] - 2s 21ms/step - loss: 0.0536 - accuracy: 0.9866 - val_loss: 0.7288 - val_accuracy: 0.8143\n",
      "Epoch 15/20\n",
      "83/83 [==============================] - 2s 22ms/step - loss: 0.0623 - accuracy: 0.9815 - val_loss: 0.7055 - val_accuracy: 0.8114\n",
      "Epoch 16/20\n",
      "83/83 [==============================] - 2s 22ms/step - loss: 0.0501 - accuracy: 0.9866 - val_loss: 0.7283 - val_accuracy: 0.8172\n",
      "Epoch 17/20\n",
      "83/83 [==============================] - 2s 21ms/step - loss: 0.0468 - accuracy: 0.9865 - val_loss: 0.7621 - val_accuracy: 0.8239\n",
      "Epoch 18/20\n",
      "83/83 [==============================] - 2s 21ms/step - loss: 0.0647 - accuracy: 0.9784 - val_loss: 0.6602 - val_accuracy: 0.8177\n",
      "Epoch 19/20\n",
      "83/83 [==============================] - 2s 21ms/step - loss: 0.0503 - accuracy: 0.9864 - val_loss: 0.7105 - val_accuracy: 0.8066\n",
      "Epoch 20/20\n",
      "83/83 [==============================] - 2s 21ms/step - loss: 0.0456 - accuracy: 0.9870 - val_loss: 0.7955 - val_accuracy: 0.8186\n"
     ]
    }
   ],
   "source": [
    "fit_model(model)"
   ]
  },
  {
   "cell_type": "markdown",
   "id": "d950cf31",
   "metadata": {},
   "source": [
    "## Model 5: quitar overfitting"
   ]
  },
  {
   "cell_type": "code",
   "execution_count": 35,
   "id": "c900a7ba",
   "metadata": {},
   "outputs": [],
   "source": [
    "keras.utils.set_random_seed(812)\n",
    "\n",
    "embd_size = 20\n",
    "lstm_dim = 32\n",
    "\n",
    "model = Sequential([\n",
    "    Embedding(\n",
    "        input_dim=vocab_size,\n",
    "        output_dim=embd_size,\n",
    "        input_length=max_length\n",
    "    ), \n",
    "    Dropout(.5),\n",
    "    LSTM(lstm_dim),    \n",
    "    Dropout(.5),\n",
    "    BatchNormalization(),\n",
    "    Dense(6, activation='relu'),\n",
    "    Dense(1, activation='sigmoid')\n",
    "])\n",
    "compile_model(model)"
   ]
  },
  {
   "cell_type": "code",
   "execution_count": 37,
   "id": "49bc3d16",
   "metadata": {
    "scrolled": true
   },
   "outputs": [
    {
     "name": "stdout",
     "output_type": "stream",
     "text": [
      "Epoch 1/20\n",
      "83/83 [==============================] - 1s 18ms/step - loss: 0.0932 - accuracy: 0.9669 - val_loss: 0.8431 - val_accuracy: 0.7824\n",
      "Epoch 2/20\n",
      "83/83 [==============================] - 1s 17ms/step - loss: 0.0889 - accuracy: 0.9680 - val_loss: 0.6598 - val_accuracy: 0.8312\n",
      "Epoch 3/20\n",
      "83/83 [==============================] - 1s 18ms/step - loss: 0.0842 - accuracy: 0.9662 - val_loss: 0.6627 - val_accuracy: 0.8321\n",
      "Epoch 4/20\n",
      "83/83 [==============================] - 1s 17ms/step - loss: 0.0781 - accuracy: 0.9716 - val_loss: 0.7025 - val_accuracy: 0.8215\n",
      "Epoch 5/20\n",
      "83/83 [==============================] - 1s 18ms/step - loss: 0.0750 - accuracy: 0.9725 - val_loss: 0.7679 - val_accuracy: 0.8341\n",
      "Epoch 6/20\n",
      "83/83 [==============================] - 1s 18ms/step - loss: 0.0714 - accuracy: 0.9726 - val_loss: 0.8239 - val_accuracy: 0.8022\n",
      "Epoch 7/20\n",
      "83/83 [==============================] - 1s 17ms/step - loss: 0.0701 - accuracy: 0.9753 - val_loss: 0.7417 - val_accuracy: 0.8225\n",
      "Epoch 8/20\n",
      "83/83 [==============================] - 1s 17ms/step - loss: 0.0841 - accuracy: 0.9673 - val_loss: 0.7319 - val_accuracy: 0.8181\n",
      "Epoch 9/20\n",
      "83/83 [==============================] - 1s 17ms/step - loss: 0.0705 - accuracy: 0.9754 - val_loss: 0.6852 - val_accuracy: 0.8234\n",
      "Epoch 10/20\n",
      "83/83 [==============================] - 1s 18ms/step - loss: 0.0720 - accuracy: 0.9739 - val_loss: 0.7274 - val_accuracy: 0.8244\n",
      "Epoch 11/20\n",
      "83/83 [==============================] - 1s 17ms/step - loss: 0.0665 - accuracy: 0.9765 - val_loss: 0.6516 - val_accuracy: 0.8239\n",
      "Epoch 12/20\n",
      "83/83 [==============================] - 1s 17ms/step - loss: 0.0603 - accuracy: 0.9774 - val_loss: 0.7046 - val_accuracy: 0.8283\n",
      "Epoch 13/20\n",
      "83/83 [==============================] - 1s 17ms/step - loss: 0.0573 - accuracy: 0.9789 - val_loss: 0.8258 - val_accuracy: 0.8288\n",
      "Epoch 14/20\n",
      "83/83 [==============================] - 1s 17ms/step - loss: 0.0669 - accuracy: 0.9767 - val_loss: 0.7247 - val_accuracy: 0.8254\n",
      "Epoch 15/20\n",
      "83/83 [==============================] - 1s 17ms/step - loss: 0.0621 - accuracy: 0.9778 - val_loss: 0.7458 - val_accuracy: 0.8239\n",
      "Epoch 16/20\n",
      "83/83 [==============================] - 1s 17ms/step - loss: 0.0612 - accuracy: 0.9773 - val_loss: 0.7875 - val_accuracy: 0.8263\n",
      "Epoch 17/20\n",
      "83/83 [==============================] - 1s 17ms/step - loss: 0.0549 - accuracy: 0.9808 - val_loss: 0.7318 - val_accuracy: 0.8249\n",
      "Epoch 18/20\n",
      "83/83 [==============================] - 1s 17ms/step - loss: 0.0516 - accuracy: 0.9814 - val_loss: 0.7697 - val_accuracy: 0.8297\n",
      "Epoch 19/20\n",
      "83/83 [==============================] - 1s 17ms/step - loss: 0.0633 - accuracy: 0.9777 - val_loss: 0.7019 - val_accuracy: 0.8191\n",
      "Epoch 20/20\n",
      "83/83 [==============================] - 1s 17ms/step - loss: 0.0551 - accuracy: 0.9812 - val_loss: 0.7426 - val_accuracy: 0.8244\n"
     ]
    }
   ],
   "source": [
    "fit_model(model)"
   ]
  },
  {
   "cell_type": "markdown",
   "id": "ca519a37",
   "metadata": {},
   "source": [
    "# Tamaño del dataset"
   ]
  },
  {
   "cell_type": "code",
   "execution_count": 38,
   "id": "fc337c38",
   "metadata": {},
   "outputs": [
    {
     "data": {
      "text/html": [
       "<div>\n",
       "<style scoped>\n",
       "    .dataframe tbody tr th:only-of-type {\n",
       "        vertical-align: middle;\n",
       "    }\n",
       "\n",
       "    .dataframe tbody tr th {\n",
       "        vertical-align: top;\n",
       "    }\n",
       "\n",
       "    .dataframe thead th {\n",
       "        text-align: right;\n",
       "    }\n",
       "</style>\n",
       "<table border=\"1\" class=\"dataframe\">\n",
       "  <thead>\n",
       "    <tr style=\"text-align: right;\">\n",
       "      <th></th>\n",
       "      <th>stars</th>\n",
       "      <th>review_body</th>\n",
       "      <th>review_title</th>\n",
       "      <th>product_category</th>\n",
       "    </tr>\n",
       "  </thead>\n",
       "  <tbody>\n",
       "    <tr>\n",
       "      <th>0</th>\n",
       "      <td>1</td>\n",
       "      <td>nunca llego el pedido y el vendedor pasa de todo no contestan</td>\n",
       "      <td>No llego nunca</td>\n",
       "      <td>sports</td>\n",
       "    </tr>\n",
       "    <tr>\n",
       "      <th>1</th>\n",
       "      <td>1</td>\n",
       "      <td>no sé como es, porque debería haber llegado ayer día  de marzo, y hoy  por la noche sigo esperando que llegue el frontal. y me habéis mandado el formulario de opinión. pues de momento mala no ha cumplido con la fecha de entrega.</td>\n",
       "      <td>Todavía no ha llegado</td>\n",
       "      <td>sports</td>\n",
       "    </tr>\n",
       "    <tr>\n",
       "      <th>2</th>\n",
       "      <td>1</td>\n",
       "      <td>guantes cómodos, no lo niego, pero de mala calidad. yo creo que en caso de caída no valdrian para mucho, dos meses de uso y se están rajando.</td>\n",
       "      <td>Guantes de baja calidad</td>\n",
       "      <td>sports</td>\n",
       "    </tr>\n",
       "    <tr>\n",
       "      <th>3</th>\n",
       "      <td>1</td>\n",
       "      <td>hasta hoy no he visto el producto. el pedido hace ya casi  mes. y notifico que he usado prime para está compra.</td>\n",
       "      <td>Muy Mala experiencia</td>\n",
       "      <td>sports</td>\n",
       "    </tr>\n",
       "    <tr>\n",
       "      <th>4</th>\n",
       "      <td>1</td>\n",
       "      <td>no puedo valorarla porque, después de casi una semana, aún no he recibido mi pedido. pienso que amazon tendría que valorar las compañías de transporte con que trabaja, porque es indignante que pague mi cuota prime y nunca reciba mi pedido el día que toca</td>\n",
       "      <td>Paquete perdido?</td>\n",
       "      <td>sports</td>\n",
       "    </tr>\n",
       "  </tbody>\n",
       "</table>\n",
       "</div>"
      ],
      "text/plain": [
       "   stars  \\\n",
       "0      1   \n",
       "1      1   \n",
       "2      1   \n",
       "3      1   \n",
       "4      1   \n",
       "\n",
       "                                                                                                                                                                                                                                                      review_body  \\\n",
       "0                                                                                                                                                                                                   nunca llego el pedido y el vendedor pasa de todo no contestan   \n",
       "1                            no sé como es, porque debería haber llegado ayer día  de marzo, y hoy  por la noche sigo esperando que llegue el frontal. y me habéis mandado el formulario de opinión. pues de momento mala no ha cumplido con la fecha de entrega.   \n",
       "2                                                                                                                   guantes cómodos, no lo niego, pero de mala calidad. yo creo que en caso de caída no valdrian para mucho, dos meses de uso y se están rajando.   \n",
       "3                                                                                                                                                 hasta hoy no he visto el producto. el pedido hace ya casi  mes. y notifico que he usado prime para está compra.   \n",
       "4  no puedo valorarla porque, después de casi una semana, aún no he recibido mi pedido. pienso que amazon tendría que valorar las compañías de transporte con que trabaja, porque es indignante que pague mi cuota prime y nunca reciba mi pedido el día que toca   \n",
       "\n",
       "              review_title product_category  \n",
       "0           No llego nunca           sports  \n",
       "1    Todavía no ha llegado           sports  \n",
       "2  Guantes de baja calidad           sports  \n",
       "3     Muy Mala experiencia           sports  \n",
       "4         Paquete perdido?           sports  "
      ]
     },
     "execution_count": 38,
     "metadata": {},
     "output_type": "execute_result"
    }
   ],
   "source": [
    "import pandas as pd\n",
    "pd.set_option('display.max_colwidth', None)\n",
    "\n",
    "df1 = pd.read_csv(\"https://raw.githubusercontent.com/eduardofc/data/main/amazon_sports.csv\")\n",
    "df2 = pd.read_csv(\"https://raw.githubusercontent.com/eduardofc/data/main/amazon_home.csv\")\n",
    "df3 = pd.read_csv(\"https://raw.githubusercontent.com/eduardofc/data/main/amazon_electronics.csv\")\n",
    "\n",
    "df = pd.concat([df1, df2, df3])\n",
    "\n",
    "df['review_body'] = df['review_body'].str.replace(\"[^a-zA-Zñáéíóú .,]\", \"\", regex=True)\n",
    "df['review_body'] = df['review_body'].str.lower()\n",
    "df.head()"
   ]
  },
  {
   "cell_type": "code",
   "execution_count": 39,
   "id": "b73d48b8",
   "metadata": {},
   "outputs": [
    {
     "data": {
      "text/plain": [
       "good_product\n",
       "0    20512\n",
       "1    19817\n",
       "dtype: int64"
      ]
     },
     "execution_count": 39,
     "metadata": {},
     "output_type": "execute_result"
    }
   ],
   "source": [
    "df = df[df.stars!=3]\n",
    "df['good_product'] = (df.stars>3).astype(int)\n",
    "df.groupby('good_product').size()"
   ]
  },
  {
   "cell_type": "code",
   "execution_count": 40,
   "id": "29edad09",
   "metadata": {},
   "outputs": [
    {
     "name": "stdout",
     "output_type": "stream",
     "text": [
      "32263\n",
      "8066\n"
     ]
    }
   ],
   "source": [
    "X = df.review_body.values\n",
    "y = df.good_product\n",
    "\n",
    "X_train, X_test, y_train, y_test = train_test_split(X, y, test_size=.2, random_state=33)\n",
    "\n",
    "print(len(X_train))\n",
    "print(len(X_test))"
   ]
  },
  {
   "cell_type": "code",
   "execution_count": 41,
   "id": "54a700af",
   "metadata": {},
   "outputs": [],
   "source": [
    "# tokenizer\n",
    "\n",
    "vocab_size = 5000\n",
    "\n",
    "tokenizer = Tokenizer(num_words=vocab_size, oov_token='<OOV>')\n",
    "tokenizer.fit_on_texts(X_train)"
   ]
  },
  {
   "cell_type": "code",
   "execution_count": 42,
   "id": "02367440",
   "metadata": {},
   "outputs": [],
   "source": [
    "tokenized_train = tokenizer.texts_to_sequences(X_train)\n",
    "tokenized_test = tokenizer.texts_to_sequences(X_test)"
   ]
  },
  {
   "cell_type": "code",
   "execution_count": 43,
   "id": "6e68eaeb",
   "metadata": {},
   "outputs": [],
   "source": [
    "# padding\n",
    "\n",
    "max_length = 50\n",
    "\n",
    "padded_train = pad_sequences(tokenized_train, maxlen=max_length)\n",
    "padded_test = pad_sequences(tokenized_test, maxlen=max_length)"
   ]
  },
  {
   "cell_type": "code",
   "execution_count": 44,
   "id": "a9f67720",
   "metadata": {},
   "outputs": [],
   "source": [
    "keras.utils.set_random_seed(812)\n",
    "\n",
    "embd_size = 20\n",
    "lstm_dim = 32\n",
    "\n",
    "model = Sequential([\n",
    "    Embedding(\n",
    "        input_dim=vocab_size,\n",
    "        output_dim=embd_size,\n",
    "        input_length=max_length\n",
    "    ), \n",
    "    Dropout(.5),\n",
    "    LSTM(lstm_dim),    \n",
    "    Dropout(.5),\n",
    "    BatchNormalization(),\n",
    "    Dense(6, activation='relu'),\n",
    "    Dense(1, activation='sigmoid')\n",
    "])\n",
    "compile_model(model)"
   ]
  },
  {
   "cell_type": "code",
   "execution_count": 45,
   "id": "279390d6",
   "metadata": {},
   "outputs": [
    {
     "name": "stdout",
     "output_type": "stream",
     "text": [
      "Epoch 1/20\n",
      "323/323 [==============================] - 8s 18ms/step - loss: 0.4539 - accuracy: 0.7791 - val_loss: 0.4749 - val_accuracy: 0.7966\n",
      "Epoch 2/20\n",
      "323/323 [==============================] - 5s 17ms/step - loss: 0.3195 - accuracy: 0.8665 - val_loss: 0.3177 - val_accuracy: 0.8662\n",
      "Epoch 3/20\n",
      "323/323 [==============================] - 5s 17ms/step - loss: 0.2882 - accuracy: 0.8803 - val_loss: 0.2993 - val_accuracy: 0.8758\n",
      "Epoch 4/20\n",
      "323/323 [==============================] - 6s 17ms/step - loss: 0.2673 - accuracy: 0.8878 - val_loss: 0.2862 - val_accuracy: 0.8797\n",
      "Epoch 5/20\n",
      "323/323 [==============================] - 5s 17ms/step - loss: 0.2527 - accuracy: 0.8959 - val_loss: 0.3120 - val_accuracy: 0.8690\n",
      "Epoch 6/20\n",
      "323/323 [==============================] - 5s 17ms/step - loss: 0.2401 - accuracy: 0.9008 - val_loss: 0.2887 - val_accuracy: 0.8866\n",
      "Epoch 7/20\n",
      "323/323 [==============================] - 5s 17ms/step - loss: 0.2312 - accuracy: 0.9052 - val_loss: 0.2743 - val_accuracy: 0.8856\n",
      "Epoch 8/20\n",
      "323/323 [==============================] - 5s 17ms/step - loss: 0.2179 - accuracy: 0.9117 - val_loss: 0.2792 - val_accuracy: 0.8854\n",
      "Epoch 9/20\n",
      "323/323 [==============================] - 5s 17ms/step - loss: 0.2100 - accuracy: 0.9129 - val_loss: 0.2747 - val_accuracy: 0.8905\n",
      "Epoch 10/20\n",
      "323/323 [==============================] - 5s 17ms/step - loss: 0.2044 - accuracy: 0.9175 - val_loss: 0.2771 - val_accuracy: 0.8908\n",
      "Epoch 11/20\n",
      "323/323 [==============================] - 5s 17ms/step - loss: 0.1976 - accuracy: 0.9216 - val_loss: 0.2818 - val_accuracy: 0.8913\n",
      "Epoch 12/20\n",
      "323/323 [==============================] - 5s 17ms/step - loss: 0.1888 - accuracy: 0.9234 - val_loss: 0.2789 - val_accuracy: 0.8889\n",
      "Epoch 13/20\n",
      "323/323 [==============================] - 5s 17ms/step - loss: 0.1823 - accuracy: 0.9277 - val_loss: 0.2805 - val_accuracy: 0.8909\n",
      "Epoch 14/20\n",
      "323/323 [==============================] - 5s 17ms/step - loss: 0.1782 - accuracy: 0.9313 - val_loss: 0.2886 - val_accuracy: 0.8897\n",
      "Epoch 15/20\n",
      "323/323 [==============================] - 5s 17ms/step - loss: 0.1700 - accuracy: 0.9338 - val_loss: 0.2868 - val_accuracy: 0.8883\n",
      "Epoch 16/20\n",
      "323/323 [==============================] - 5s 17ms/step - loss: 0.1667 - accuracy: 0.9332 - val_loss: 0.3094 - val_accuracy: 0.8941\n",
      "Epoch 17/20\n",
      "323/323 [==============================] - 5s 17ms/step - loss: 0.1609 - accuracy: 0.9379 - val_loss: 0.3107 - val_accuracy: 0.8914\n",
      "Epoch 18/20\n",
      "323/323 [==============================] - 5s 17ms/step - loss: 0.1615 - accuracy: 0.9367 - val_loss: 0.2927 - val_accuracy: 0.8895\n",
      "Epoch 19/20\n",
      "323/323 [==============================] - 5s 17ms/step - loss: 0.1565 - accuracy: 0.9391 - val_loss: 0.3221 - val_accuracy: 0.8910\n",
      "Epoch 20/20\n",
      "323/323 [==============================] - 5s 17ms/step - loss: 0.1527 - accuracy: 0.9406 - val_loss: 0.3048 - val_accuracy: 0.8900\n"
     ]
    }
   ],
   "source": [
    "fit_model(model)"
   ]
  },
  {
   "cell_type": "code",
   "execution_count": null,
   "id": "de1bba98",
   "metadata": {},
   "outputs": [],
   "source": []
  },
  {
   "cell_type": "code",
   "execution_count": null,
   "id": "3623ae13",
   "metadata": {},
   "outputs": [],
   "source": []
  },
  {
   "cell_type": "code",
   "execution_count": null,
   "id": "305d30c9",
   "metadata": {},
   "outputs": [],
   "source": []
  }
 ],
 "metadata": {
  "kernelspec": {
   "display_name": "Python 3 (ipykernel)",
   "language": "python",
   "name": "python3"
  },
  "language_info": {
   "codemirror_mode": {
    "name": "ipython",
    "version": 3
   },
   "file_extension": ".py",
   "mimetype": "text/x-python",
   "name": "python",
   "nbconvert_exporter": "python",
   "pygments_lexer": "ipython3",
   "version": "3.10.13"
  }
 },
 "nbformat": 4,
 "nbformat_minor": 5
}
